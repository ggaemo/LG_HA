{
 "cells": [
  {
   "cell_type": "code",
   "execution_count": 1,
   "metadata": {
    "collapsed": true
   },
   "outputs": [],
   "source": [
    "import itertools"
   ]
  },
  {
   "cell_type": "code",
   "execution_count": 28,
   "metadata": {
    "collapsed": true
   },
   "outputs": [],
   "source": [
    "rnn_cell_list = ['gru']\n",
    "rnn_layer_list = [[64, 64]]\n",
    "output_layer_list = [[64, 64]]"
   ]
  },
  {
   "cell_type": "code",
   "execution_count": 51,
   "metadata": {
    "collapsed": true
   },
   "outputs": [],
   "source": [
    "perm = itertools.permutations(['Site_{}'.format(x) for x in [1, 5, 23, 24, 25, 26]], 2)"
   ]
  },
  {
   "cell_type": "code",
   "execution_count": 52,
   "metadata": {
    "collapsed": false
   },
   "outputs": [
    {
     "name": "stdout",
     "output_type": "stream",
     "text": [
      "python train.py -rnn_cell gru -rnn_layer 64 64 -output_layer 64 64 -trn_site Site_1 -test_site Site_5 -share_encoder -int_mode\n",
      "python train.py -rnn_cell gru -rnn_layer 64 64 -output_layer 64 64 -trn_site Site_1 -test_site Site_5  -int_mode\n",
      "python train.py -rnn_cell gru -rnn_layer 64 64 -output_layer 64 64 -trn_site Site_1 -test_site Site_23 -share_encoder -int_mode\n",
      "python train.py -rnn_cell gru -rnn_layer 64 64 -output_layer 64 64 -trn_site Site_1 -test_site Site_23  -int_mode\n",
      "--------------\n",
      "python train.py -rnn_cell gru -rnn_layer 64 64 -output_layer 64 64 -trn_site Site_1 -test_site Site_24 -share_encoder -int_mode\n",
      "python train.py -rnn_cell gru -rnn_layer 64 64 -output_layer 64 64 -trn_site Site_1 -test_site Site_24  -int_mode\n",
      "python train.py -rnn_cell gru -rnn_layer 64 64 -output_layer 64 64 -trn_site Site_1 -test_site Site_25 -share_encoder -int_mode\n",
      "python train.py -rnn_cell gru -rnn_layer 64 64 -output_layer 64 64 -trn_site Site_1 -test_site Site_25  -int_mode\n",
      "--------------\n",
      "python train.py -rnn_cell gru -rnn_layer 64 64 -output_layer 64 64 -trn_site Site_1 -test_site Site_26 -share_encoder -int_mode\n",
      "python train.py -rnn_cell gru -rnn_layer 64 64 -output_layer 64 64 -trn_site Site_1 -test_site Site_26  -int_mode\n",
      "python train.py -rnn_cell gru -rnn_layer 64 64 -output_layer 64 64 -trn_site Site_5 -test_site Site_1 -share_encoder -int_mode\n",
      "python train.py -rnn_cell gru -rnn_layer 64 64 -output_layer 64 64 -trn_site Site_5 -test_site Site_1  -int_mode\n",
      "--------------\n",
      "python train.py -rnn_cell gru -rnn_layer 64 64 -output_layer 64 64 -trn_site Site_5 -test_site Site_23 -share_encoder -int_mode\n",
      "python train.py -rnn_cell gru -rnn_layer 64 64 -output_layer 64 64 -trn_site Site_5 -test_site Site_23  -int_mode\n",
      "python train.py -rnn_cell gru -rnn_layer 64 64 -output_layer 64 64 -trn_site Site_5 -test_site Site_24 -share_encoder -int_mode\n",
      "python train.py -rnn_cell gru -rnn_layer 64 64 -output_layer 64 64 -trn_site Site_5 -test_site Site_24  -int_mode\n",
      "--------------\n",
      "python train.py -rnn_cell gru -rnn_layer 64 64 -output_layer 64 64 -trn_site Site_5 -test_site Site_25 -share_encoder -int_mode\n",
      "python train.py -rnn_cell gru -rnn_layer 64 64 -output_layer 64 64 -trn_site Site_5 -test_site Site_25  -int_mode\n",
      "python train.py -rnn_cell gru -rnn_layer 64 64 -output_layer 64 64 -trn_site Site_5 -test_site Site_26 -share_encoder -int_mode\n",
      "python train.py -rnn_cell gru -rnn_layer 64 64 -output_layer 64 64 -trn_site Site_5 -test_site Site_26  -int_mode\n",
      "--------------\n",
      "python train.py -rnn_cell gru -rnn_layer 64 64 -output_layer 64 64 -trn_site Site_23 -test_site Site_1 -share_encoder -int_mode\n",
      "python train.py -rnn_cell gru -rnn_layer 64 64 -output_layer 64 64 -trn_site Site_23 -test_site Site_1  -int_mode\n",
      "python train.py -rnn_cell gru -rnn_layer 64 64 -output_layer 64 64 -trn_site Site_23 -test_site Site_5 -share_encoder -int_mode\n",
      "python train.py -rnn_cell gru -rnn_layer 64 64 -output_layer 64 64 -trn_site Site_23 -test_site Site_5  -int_mode\n",
      "--------------\n",
      "python train.py -rnn_cell gru -rnn_layer 64 64 -output_layer 64 64 -trn_site Site_23 -test_site Site_24 -share_encoder -int_mode\n",
      "python train.py -rnn_cell gru -rnn_layer 64 64 -output_layer 64 64 -trn_site Site_23 -test_site Site_24  -int_mode\n",
      "python train.py -rnn_cell gru -rnn_layer 64 64 -output_layer 64 64 -trn_site Site_23 -test_site Site_25 -share_encoder -int_mode\n",
      "python train.py -rnn_cell gru -rnn_layer 64 64 -output_layer 64 64 -trn_site Site_23 -test_site Site_25  -int_mode\n",
      "--------------\n",
      "python train.py -rnn_cell gru -rnn_layer 64 64 -output_layer 64 64 -trn_site Site_23 -test_site Site_26 -share_encoder -int_mode\n",
      "python train.py -rnn_cell gru -rnn_layer 64 64 -output_layer 64 64 -trn_site Site_23 -test_site Site_26  -int_mode\n",
      "python train.py -rnn_cell gru -rnn_layer 64 64 -output_layer 64 64 -trn_site Site_24 -test_site Site_1 -share_encoder -int_mode\n",
      "python train.py -rnn_cell gru -rnn_layer 64 64 -output_layer 64 64 -trn_site Site_24 -test_site Site_1  -int_mode\n",
      "--------------\n",
      "python train.py -rnn_cell gru -rnn_layer 64 64 -output_layer 64 64 -trn_site Site_24 -test_site Site_5 -share_encoder -int_mode\n",
      "python train.py -rnn_cell gru -rnn_layer 64 64 -output_layer 64 64 -trn_site Site_24 -test_site Site_5  -int_mode\n",
      "python train.py -rnn_cell gru -rnn_layer 64 64 -output_layer 64 64 -trn_site Site_24 -test_site Site_23 -share_encoder -int_mode\n",
      "python train.py -rnn_cell gru -rnn_layer 64 64 -output_layer 64 64 -trn_site Site_24 -test_site Site_23  -int_mode\n",
      "--------------\n",
      "python train.py -rnn_cell gru -rnn_layer 64 64 -output_layer 64 64 -trn_site Site_24 -test_site Site_25 -share_encoder -int_mode\n",
      "python train.py -rnn_cell gru -rnn_layer 64 64 -output_layer 64 64 -trn_site Site_24 -test_site Site_25  -int_mode\n",
      "python train.py -rnn_cell gru -rnn_layer 64 64 -output_layer 64 64 -trn_site Site_24 -test_site Site_26 -share_encoder -int_mode\n",
      "python train.py -rnn_cell gru -rnn_layer 64 64 -output_layer 64 64 -trn_site Site_24 -test_site Site_26  -int_mode\n",
      "--------------\n",
      "python train.py -rnn_cell gru -rnn_layer 64 64 -output_layer 64 64 -trn_site Site_25 -test_site Site_1 -share_encoder -int_mode\n",
      "python train.py -rnn_cell gru -rnn_layer 64 64 -output_layer 64 64 -trn_site Site_25 -test_site Site_1  -int_mode\n",
      "python train.py -rnn_cell gru -rnn_layer 64 64 -output_layer 64 64 -trn_site Site_25 -test_site Site_5 -share_encoder -int_mode\n",
      "python train.py -rnn_cell gru -rnn_layer 64 64 -output_layer 64 64 -trn_site Site_25 -test_site Site_5  -int_mode\n",
      "--------------\n",
      "python train.py -rnn_cell gru -rnn_layer 64 64 -output_layer 64 64 -trn_site Site_25 -test_site Site_23 -share_encoder -int_mode\n",
      "python train.py -rnn_cell gru -rnn_layer 64 64 -output_layer 64 64 -trn_site Site_25 -test_site Site_23  -int_mode\n",
      "python train.py -rnn_cell gru -rnn_layer 64 64 -output_layer 64 64 -trn_site Site_25 -test_site Site_24 -share_encoder -int_mode\n",
      "python train.py -rnn_cell gru -rnn_layer 64 64 -output_layer 64 64 -trn_site Site_25 -test_site Site_24  -int_mode\n",
      "--------------\n",
      "python train.py -rnn_cell gru -rnn_layer 64 64 -output_layer 64 64 -trn_site Site_25 -test_site Site_26 -share_encoder -int_mode\n",
      "python train.py -rnn_cell gru -rnn_layer 64 64 -output_layer 64 64 -trn_site Site_25 -test_site Site_26  -int_mode\n",
      "python train.py -rnn_cell gru -rnn_layer 64 64 -output_layer 64 64 -trn_site Site_26 -test_site Site_1 -share_encoder -int_mode\n",
      "python train.py -rnn_cell gru -rnn_layer 64 64 -output_layer 64 64 -trn_site Site_26 -test_site Site_1  -int_mode\n",
      "--------------\n",
      "python train.py -rnn_cell gru -rnn_layer 64 64 -output_layer 64 64 -trn_site Site_26 -test_site Site_5 -share_encoder -int_mode\n",
      "python train.py -rnn_cell gru -rnn_layer 64 64 -output_layer 64 64 -trn_site Site_26 -test_site Site_5  -int_mode\n",
      "python train.py -rnn_cell gru -rnn_layer 64 64 -output_layer 64 64 -trn_site Site_26 -test_site Site_23 -share_encoder -int_mode\n",
      "python train.py -rnn_cell gru -rnn_layer 64 64 -output_layer 64 64 -trn_site Site_26 -test_site Site_23  -int_mode\n",
      "--------------\n",
      "python train.py -rnn_cell gru -rnn_layer 64 64 -output_layer 64 64 -trn_site Site_26 -test_site Site_24 -share_encoder -int_mode\n",
      "python train.py -rnn_cell gru -rnn_layer 64 64 -output_layer 64 64 -trn_site Site_26 -test_site Site_24  -int_mode\n",
      "python train.py -rnn_cell gru -rnn_layer 64 64 -output_layer 64 64 -trn_site Site_26 -test_site Site_25 -share_encoder -int_mode\n",
      "python train.py -rnn_cell gru -rnn_layer 64 64 -output_layer 64 64 -trn_site Site_26 -test_site Site_25  -int_mode\n",
      "--------------\n"
     ]
    }
   ],
   "source": [
    "count = 0\n",
    "for trn_site, test_site in perm:\n",
    "    for rnn_cell in rnn_cell_list:\n",
    "        for rnn_layer in rnn_layer_list:        \n",
    "            rnn_layer = ' '.join([str(x) for x in rnn_layer])\n",
    "            for output_layer in output_layer_list:\n",
    "                output_layer = ' '.join([str(x) for x in output_layer])                \n",
    "                for shared_encoder in ['-share_encoder', '']:                    \n",
    "                    if rnn_cell == 'lnlstm':\n",
    "                        for keep_prob in keep_prob_list:                \n",
    "                            count+=1\n",
    "                            print('python train.py -rnn_cell {} -rnn_layer {} -output_layer {} -keep_prob {}'.format(rnn_cell, rnn_layer, output_layer, keep_prob))\n",
    "                            if count % 4 == 0:\n",
    "                                print('--------------')\n",
    "                    else:\n",
    "                        count+=1                \n",
    "                        print('python train.py -rnn_cell {} -rnn_layer {} -output_layer {} -trn_site {} -test_site {} {} -int_mode'.format(rnn_cell, rnn_layer, output_layer, trn_site, test_site, shared_encoder))\n",
    "                        if count % 4 == 0:\n",
    "                            print('--------------')"
   ]
  },
  {
   "cell_type": "code",
   "execution_count": 40,
   "metadata": {
    "collapsed": false
   },
   "outputs": [
    {
     "data": {
      "text/plain": [
       "60"
      ]
     },
     "execution_count": 40,
     "metadata": {},
     "output_type": "execute_result"
    }
   ],
   "source": [
    "count"
   ]
  },
  {
   "cell_type": "code",
   "execution_count": null,
   "metadata": {
    "collapsed": true
   },
   "outputs": [],
   "source": []
  }
 ],
 "metadata": {
  "kernelspec": {
   "display_name": "Python [default]",
   "language": "python",
   "name": "python3"
  },
  "language_info": {
   "codemirror_mode": {
    "name": "ipython",
    "version": 3
   },
   "file_extension": ".py",
   "mimetype": "text/x-python",
   "name": "python",
   "nbconvert_exporter": "python",
   "pygments_lexer": "ipython3",
   "version": "3.5.2"
  }
 },
 "nbformat": 4,
 "nbformat_minor": 2
}

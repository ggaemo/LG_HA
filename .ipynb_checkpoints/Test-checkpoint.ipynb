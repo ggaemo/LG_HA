{
 "cells": [
  {
   "cell_type": "code",
   "execution_count": 1,
   "metadata": {
    "collapsed": true
   },
   "outputs": [],
   "source": [
    "import tensorflow as tf\n",
    "import pandas as pd\n",
    "import numpy as np\n",
    "import math\n",
    "import matplotlib.pyplot as plt\n",
    "import seaborn as sns"
   ]
  },
  {
   "cell_type": "code",
   "execution_count": 33,
   "metadata": {
    "collapsed": true
   },
   "outputs": [],
   "source": [
    "import matplotlib"
   ]
  },
  {
   "cell_type": "code",
   "execution_count": 148,
   "metadata": {
    "collapsed": true
   },
   "outputs": [],
   "source": [
    "import plotly.graph_objs as go\n",
    "import plotly.plotly as py\n"
   ]
  },
  {
   "cell_type": "code",
   "execution_count": 12,
   "metadata": {
    "collapsed": true
   },
   "outputs": [],
   "source": [
    "import pandas as pd"
   ]
  },
  {
   "cell_type": "code",
   "execution_count": 25,
   "metadata": {
    "collapsed": false
   },
   "outputs": [
    {
     "data": {
      "text/plain": [
       "9847"
      ]
     },
     "execution_count": 25,
     "metadata": {},
     "output_type": "execute_result"
    }
   ],
   "source": [
    "len(pd.read_pickle('multinli_test_mismatched.pkl'))"
   ]
  },
  {
   "cell_type": "code",
   "execution_count": null,
   "metadata": {
    "collapsed": true
   },
   "outputs": [],
   "source": []
  },
  {
   "cell_type": "code",
   "execution_count": 2,
   "metadata": {
    "collapsed": true
   },
   "outputs": [],
   "source": [
    "sess = tf.Session()"
   ]
  },
  {
   "cell_type": "code",
   "execution_count": 3,
   "metadata": {
    "collapsed": false
   },
   "outputs": [
    {
     "name": "stdout",
     "output_type": "stream",
     "text": [
      "INFO:tensorflow:Restoring parameters from MultiNLI_Dist_Acc_37/SNLI0.737975263454-60970\n"
     ]
    }
   ],
   "source": [
    "checkpoint_dir = 'MultiNLI_Dist_Acc_37/'\n",
    "meta_graph_file_name = 'SNLI0.737975263454-60970.meta'\n",
    "saver = tf.train.import_meta_graph(checkpoint_dir + meta_graph_file_name)\n",
    "saver.restore(sess, tf.train.latest_checkpoint(checkpoint_dir))"
   ]
  },
  {
   "cell_type": "markdown",
   "metadata": {},
   "source": [
    "\n",
    "#####  확인!"
   ]
  },
  {
   "cell_type": "code",
   "execution_count": 4,
   "metadata": {
    "collapsed": true
   },
   "outputs": [],
   "source": [
    "#alpha = 1.5 ############### 확인 잘하기 !!!!!!!!!!!! ##############"
   ]
  },
  {
   "cell_type": "code",
   "execution_count": 5,
   "metadata": {
    "collapsed": true
   },
   "outputs": [],
   "source": [
    "# masking = 0.03"
   ]
  },
  {
   "cell_type": "code",
   "execution_count": 4,
   "metadata": {
    "collapsed": true
   },
   "outputs": [],
   "source": [
    "graph = tf.get_default_graph()"
   ]
  },
  {
   "cell_type": "markdown",
   "metadata": {},
   "source": [
    "#####  확인!"
   ]
  },
  {
   "cell_type": "code",
   "execution_count": 43,
   "metadata": {
    "collapsed": true
   },
   "outputs": [],
   "source": [
    "test_df = pd.read_pickle('multinli_valid_mismatched.pkl')"
   ]
  },
  {
   "cell_type": "code",
   "execution_count": 44,
   "metadata": {
    "collapsed": true
   },
   "outputs": [],
   "source": [
    "test_df['avg_length'] = test_df.sentence1.apply(len) + test_df.sentence2.apply(len)\n",
    "test_df.avg_length = test_df.avg_length.apply(lambda x : x/2)\n",
    "test_df = test_df.sort_values(['avg_length'], ascending = False)"
   ]
  },
  {
   "cell_type": "code",
   "execution_count": 7,
   "metadata": {
    "collapsed": false
   },
   "outputs": [
    {
     "data": {
      "text/plain": [
       "<matplotlib.text.Text at 0x7f3523b907b8>"
      ]
     },
     "execution_count": 7,
     "metadata": {},
     "output_type": "execute_result"
    }
   ],
   "source": [
    "a = sns.distplot(test_df.avg_length, bins = [0, 5, 10, 15, 20, 25, 30, 35, 40], axlabel='Avg_length')\n",
    "a.tick_params(labelsize=13)\n",
    "ax = a.get_xlabel()\n",
    "a.set_xlabel(ax, fontsize=15)"
   ]
  },
  {
   "cell_type": "code",
   "execution_count": 27,
   "metadata": {
    "collapsed": false
   },
   "outputs": [
    {
     "data": {
      "image/png": "[encoded data removed]",
      "text/plain": [
       "<matplotlib.figure.Figure at 0x7f86d75dbb00>"
      ]
     },
     "metadata": {},
     "output_type": "display_data"
    }
   ],
   "source": [
    "plt.show()"
   ]
  },
  {
   "cell_type": "code",
   "execution_count": 28,
   "metadata": {
    "collapsed": false
   },
   "outputs": [
    {
     "ename": "NameError",
     "evalue": "name 'xrange' is not defined",
     "output_type": "error",
     "traceback": [
      "\u001b[0;31m---------------------------------------------------------------------------\u001b[0m",
      "\u001b[0;31mNameError\u001b[0m                                 Traceback (most recent call last)",
      "\u001b[0;32m<ipython-input-28-0b7cf804edc3>\u001b[0m in \u001b[0;36m<module>\u001b[0;34m()\u001b[0m\n\u001b[1;32m      4\u001b[0m \u001b[0max\u001b[0m \u001b[0;34m=\u001b[0m \u001b[0mplt\u001b[0m\u001b[0;34m.\u001b[0m\u001b[0msubplot\u001b[0m\u001b[0;34m(\u001b[0m\u001b[0;36m111\u001b[0m\u001b[0;34m)\u001b[0m\u001b[0;34m\u001b[0m\u001b[0m\n\u001b[1;32m      5\u001b[0m \u001b[0;34m\u001b[0m\u001b[0m\n\u001b[0;32m----> 6\u001b[0;31m \u001b[0;32mfor\u001b[0m \u001b[0mi\u001b[0m \u001b[0;32min\u001b[0m \u001b[0mxrange\u001b[0m\u001b[0;34m(\u001b[0m\u001b[0;36m5\u001b[0m\u001b[0;34m)\u001b[0m\u001b[0;34m:\u001b[0m\u001b[0;34m\u001b[0m\u001b[0m\n\u001b[0m\u001b[1;32m      7\u001b[0m     \u001b[0mline\u001b[0m\u001b[0;34m,\u001b[0m \u001b[0;34m=\u001b[0m \u001b[0max\u001b[0m\u001b[0;34m.\u001b[0m\u001b[0mplot\u001b[0m\u001b[0;34m(\u001b[0m\u001b[0mx\u001b[0m\u001b[0;34m,\u001b[0m \u001b[0mi\u001b[0m \u001b[0;34m*\u001b[0m \u001b[0mx\u001b[0m\u001b[0;34m,\u001b[0m \u001b[0mlabel\u001b[0m\u001b[0;34m=\u001b[0m\u001b[0;34m'$y = %ix$'\u001b[0m\u001b[0;34m%\u001b[0m\u001b[0mi\u001b[0m\u001b[0;34m)\u001b[0m\u001b[0;34m\u001b[0m\u001b[0m\n\u001b[1;32m      8\u001b[0m \u001b[0;34m\u001b[0m\u001b[0m\n",
      "\u001b[0;31mNameError\u001b[0m: name 'xrange' is not defined"
     ]
    }
   ],
   "source": [
    "x = np.arange(10)\n",
    "\n",
    "fig = plt.figure()\n",
    "ax = plt.subplot(111)\n",
    "\n",
    "for i in xrange(5):\n",
    "    line, = ax.plot(x, i * x, label='$y = %ix$'%i)\n",
    "\n",
    "ax.legend(loc='upper center', bbox_to_anchor=(0.5, 1.05),\n",
    "          ncol=3, fancybox=True, shadow=True)\n",
    "plt.show()"
   ]
  },
  {
   "cell_type": "code",
   "execution_count": 29,
   "metadata": {
    "collapsed": false
   },
   "outputs": [
    {
     "data": {
      "image/png": "[encoded data removed]",
      "text/plain": [
       "<matplotlib.figure.Figure at 0x7f86d6ec11d0>"
      ]
     },
     "metadata": {},
     "output_type": "display_data"
    }
   ],
   "source": [
    "plt.xlabel('Avg_length (l)', fontsize = 15)\n",
    "plt.ylabel('Acc (%)', fontsize=15)\n",
    "my_xticks = ['l <= 10', '10 < l <= 15', '15 < l <= 20', '20 < l <= 25', '25 < l']\n",
    "plt.xticks([1,2,3,4,5], my_xticks, fontsize=13)\n",
    "plt.yticks(fontsize = 13)\n",
    "with_ = plt.plot([1, 2, 3, 4, 5], [86.93, 86.26, 85.13, 83.4, 79.17], marker = 'o', c = 'r', label = 'with distance mask')\n",
    "without = plt.plot([1, 2, 3, 4, 5], [86.83, 85.53, 84.48, 83.0, 75.0], marker = 'o', label = 'without distance mask')\n",
    "plt.legend(loc='upper right', fontsize = 13)\n",
    "plt.show()"
   ]
  },
  {
   "cell_type": "code",
   "execution_count": 11,
   "metadata": {
    "collapsed": false
   },
   "outputs": [
    {
     "data": {
      "text/plain": [
       "48"
      ]
     },
     "execution_count": 11,
     "metadata": {},
     "output_type": "execute_result"
    }
   ],
   "source": [
    "test_df = test_df[test_df.avg_length>25]\n",
    "len(test_df)"
   ]
  },
  {
   "cell_type": "code",
   "execution_count": 25,
   "metadata": {
    "collapsed": false
   },
   "outputs": [
    {
     "data": {
      "text/plain": [
       "247"
      ]
     },
     "execution_count": 25,
     "metadata": {},
     "output_type": "execute_result"
    }
   ],
   "source": [
    "test_df = test_df[test_df.avg_length>20]\n",
    "test_df = test_df[test_df.avg_length<=25]\n",
    "len(test_df)"
   ]
  },
  {
   "cell_type": "code",
   "execution_count": 45,
   "metadata": {
    "collapsed": false
   },
   "outputs": [
    {
     "data": {
      "text/plain": [
       "1392"
      ]
     },
     "execution_count": 45,
     "metadata": {},
     "output_type": "execute_result"
    }
   ],
   "source": [
    "test_df = test_df[test_df.avg_length>15]\n",
    "test_df = test_df[test_df.avg_length<=20]\n",
    "len(test_df)"
   ]
  },
  {
   "cell_type": "code",
   "execution_count": 65,
   "metadata": {
    "collapsed": false
   },
   "outputs": [
    {
     "data": {
      "text/plain": [
       "4097"
      ]
     },
     "execution_count": 65,
     "metadata": {},
     "output_type": "execute_result"
    }
   ],
   "source": [
    "test_df = test_df[test_df.avg_length>10]\n",
    "test_df = test_df[test_df.avg_length<=15]\n",
    "len(test_df)"
   ]
  },
  {
   "cell_type": "code",
   "execution_count": 85,
   "metadata": {
    "collapsed": false,
    "scrolled": true
   },
   "outputs": [
    {
     "data": {
      "text/plain": [
       "4040"
      ]
     },
     "execution_count": 85,
     "metadata": {},
     "output_type": "execute_result"
    }
   ],
   "source": [
    "test_df = test_df[test_df.avg_length<=10]\n",
    "len(test_df)"
   ]
  },
  {
   "cell_type": "code",
   "execution_count": 45,
   "metadata": {
    "collapsed": true
   },
   "outputs": [],
   "source": [
    "test_s1 = test_df['sentence1']\n",
    "test_s2 = test_df['sentence2']\n",
    "test_label = test_df['gold_label']\n",
    "test_data = list(zip(test_s1, test_s2, test_label))"
   ]
  },
  {
   "cell_type": "code",
   "execution_count": 46,
   "metadata": {
    "collapsed": true
   },
   "outputs": [],
   "source": [
    "glove_dict = pd.read_pickle('glove_vec_dict.pkl')\n",
    "glove_dict[-1] = np.zeros([300])"
   ]
  },
  {
   "cell_type": "code",
   "execution_count": 47,
   "metadata": {
    "collapsed": true
   },
   "outputs": [],
   "source": [
    "voca_to_index = pd.read_pickle('voca_to_index.pkl')"
   ]
  },
  {
   "cell_type": "code",
   "execution_count": 48,
   "metadata": {
    "collapsed": true
   },
   "outputs": [],
   "source": [
    "index_to_voca = dict((v, k) for k, v in voca_to_index.items())"
   ]
  },
  {
   "cell_type": "code",
   "execution_count": 49,
   "metadata": {
    "collapsed": true
   },
   "outputs": [],
   "source": [
    "class DataIterator():\n",
    "    def __init__(self, data, batch_size):\n",
    "        self.data = data\n",
    "        self.batch_size = batch_size\n",
    "        self.iter = self.make_iter()\n",
    "\n",
    "    def make_iter(self):\n",
    "        splits = np.arange(self.batch_size, len(self.data), self.batch_size)\n",
    "        it = np.split(np.arange(len(self.data)), splits)\n",
    "        return iter(it)\n",
    "\n",
    "    def next_batch(self):\n",
    "        try:\n",
    "            idxs = next(self.iter)\n",
    "        except StopIteration:\n",
    "            self.iter = self.make_iter()\n",
    "            idxs = next(self.iter)\n",
    "        S1, S2, Y = zip(*[self.data[i] for i in idxs])\n",
    "        return np.array(S1), np.array(S2), np.array(Y)\n",
    "    \n",
    "batch_size = 64\n",
    "test_iter = DataIterator(test_data, batch_size)"
   ]
  },
  {
   "cell_type": "code",
   "execution_count": 50,
   "metadata": {
    "collapsed": true
   },
   "outputs": [],
   "source": [
    "s1 = graph.get_tensor_by_name('s1:0')\n",
    "s1_len = graph.get_tensor_by_name('s1_len:0')\n",
    "s2 = graph.get_tensor_by_name('s2:0')\n",
    "s2_len = graph.get_tensor_by_name('s2_len:0')\n",
    "label = graph.get_tensor_by_name('label:0')\n",
    "dropout_keep_prob = graph.get_tensor_by_name('dropout_keep_prob:0')"
   ]
  },
  {
   "cell_type": "code",
   "execution_count": 51,
   "metadata": {
    "collapsed": true
   },
   "outputs": [],
   "source": [
    "#multiply_alpha = graph.get_tensor_by_name('multiply_alpha:0')"
   ]
  },
  {
   "cell_type": "code",
   "execution_count": 52,
   "metadata": {
    "collapsed": true
   },
   "outputs": [],
   "source": [
    "masking_alpha =graph.get_tensor_by_name('masking_alpha:0')"
   ]
  },
  {
   "cell_type": "code",
   "execution_count": 53,
   "metadata": {
    "collapsed": true
   },
   "outputs": [],
   "source": [
    "#divide_alpha =graph.get_tensor_by_name('divide_alpha:0')"
   ]
  },
  {
   "cell_type": "code",
   "execution_count": 54,
   "metadata": {
    "collapsed": true
   },
   "outputs": [],
   "source": [
    "#masking_alpha=graph.get_tensor_by_name('dropout_keep_prob_1:0') ######"
   ]
  },
  {
   "cell_type": "code",
   "execution_count": 55,
   "metadata": {
    "collapsed": true
   },
   "outputs": [],
   "source": [
    "#masking_alpha=graph.get_tensor_by_name('masking_alpha:0') ######"
   ]
  },
  {
   "cell_type": "code",
   "execution_count": 56,
   "metadata": {
    "collapsed": true
   },
   "outputs": [],
   "source": [
    "# s1_attention_weight = tf.reduce_mean(graph.get_tensor_by_name('attention_unit_1/Reshape_1:0'), 0)\n",
    "# s2_attention_weight = tf.reduce_mean(graph.get_tensor_by_name('attention_unit_1_1/Reshape_1:0'), 0)"
   ]
  },
  {
   "cell_type": "code",
   "execution_count": 57,
   "metadata": {
    "collapsed": true
   },
   "outputs": [],
   "source": [
    "#scaled_dot_product = graph.get_tensor_by_name('attention_unit_1_forward/truediv:0')"
   ]
  },
  {
   "cell_type": "code",
   "execution_count": 58,
   "metadata": {
    "collapsed": true
   },
   "outputs": [],
   "source": [
    "loss = graph.get_tensor_by_name('loss:0')\n",
    "acc = graph.get_tensor_by_name('accuracy:0')"
   ]
  },
  {
   "cell_type": "code",
   "execution_count": 59,
   "metadata": {
    "collapsed": true
   },
   "outputs": [],
   "source": [
    "class Test():\n",
    "    def __init__(self, test_iter, glove_dict):\n",
    "        self.test_iter = test_iter\n",
    "        self.glove_dict = glove_dict\n",
    "        \n",
    "    def batch(self, inputs, max_sequence_length = None):\n",
    "        sequence_lengths = [len(seq) for seq in inputs]\n",
    "        batch_size = len(inputs)\n",
    "\n",
    "        if max_sequence_length is None:\n",
    "            max_sequence_length = max(sequence_lengths)\n",
    "\n",
    "        inputs_batch_major = np.ones(shape=[batch_size, max_sequence_length], dtype=np.int32) * -1 # == PAD\n",
    "\n",
    "        for i, seq in enumerate(inputs):\n",
    "            for j, element in enumerate(seq):\n",
    "                inputs_batch_major[i, j] = element\n",
    "\n",
    "        input_embedding = []\n",
    "        for i in range(batch_size):\n",
    "            input_embedding.append(np.array([self.glove_dict[index] for index in inputs_batch_major[i]]))\n",
    "        return np.array(input_embedding), max_sequence_length # [batch_size, max_sequence_length, 300]\n",
    "\n",
    "    def test_feed(self):\n",
    "        batch_s1, batch_s2, batch_label = self.test_iter.next_batch()\n",
    "        batch_s1, batch_s1_len = self.batch(batch_s1)\n",
    "        batch_s2, batch_s2_len = self.batch(batch_s2)\n",
    "        return {s1: batch_s1, s2: batch_s2, s1_len:batch_s1_len, s2_len:batch_s2_len, label: batch_label, dropout_keep_prob : 1.0,\n",
    "                masking_alpha:1.5}\n",
    "    #divide_alpha:alpha\n",
    "    def Test(self, loss, accuracy, test_data):\n",
    "        test_loss_track, test_accuracy_track = [], []\n",
    "        test_num_of_batches = math.ceil(len(test_data) / batch_size)\n",
    "            \n",
    "        for i in range(test_num_of_batches): \n",
    "            if i == range(test_num_of_batches)[-1]:\n",
    "                alpha = len(test_data) % batch_size\n",
    "            else:\n",
    "                alpha = batch_size\n",
    "            l, acc = sess.run([loss, accuracy], self.test_feed())\n",
    "            test_loss_track.append(l*alpha)\n",
    "            test_accuracy_track.append(acc*alpha)         \n",
    "\n",
    "        print('Test_Loss = ' + str(sum(test_loss_track)/len(test_data)) + ' Test_Acc = ' + str(sum(test_accuracy_track)/len(test_data)))"
   ]
  },
  {
   "cell_type": "code",
   "execution_count": 60,
   "metadata": {
    "collapsed": true
   },
   "outputs": [],
   "source": [
    "test = Test(test_iter, glove_dict)"
   ]
  },
  {
   "cell_type": "code",
   "execution_count": 61,
   "metadata": {
    "collapsed": false,
    "scrolled": true
   },
   "outputs": [
    {
     "name": "stdout",
     "output_type": "stream",
     "text": [
      "Test_Loss = 0.684293203571 Test_Acc = 0.741863303547\n"
     ]
    }
   ],
   "source": [
    "a = test.Test(loss, acc, test_data)"
   ]
  },
  {
   "cell_type": "code",
   "execution_count": null,
   "metadata": {
    "collapsed": true
   },
   "outputs": [],
   "source": []
  },
  {
   "cell_type": "code",
   "execution_count": 32,
   "metadata": {
    "collapsed": true
   },
   "outputs": [],
   "source": [
    "# Without[test]\n",
    "# overall : 86.39\n",
    "# sentence1 20 이하 : 86.57\n",
    "# sentence1, 2 모두 20 이하 : 86.63 \n",
    "\n",
    "# sentence1 20 이상 : 85.44\n",
    "# sentence1, 2 모두 20 이상 : 84.91"
   ]
  },
  {
   "cell_type": "code",
   "execution_count": 55,
   "metadata": {
    "collapsed": true
   },
   "outputs": [],
   "source": [
    "# 0.03\n",
    "# overall : 86.25\n",
    "# sentence1 20 이하 : 86.46\n",
    "# sentence1, 2 모두 20 이하 : 86.47\n",
    "\n",
    "# sentence1 20 이상 : 85.43\n",
    "# sentence1, 2 모두 20 이상 : 79.25"
   ]
  },
  {
   "cell_type": "code",
   "execution_count": 53,
   "metadata": {
    "collapsed": true
   },
   "outputs": [],
   "source": [
    "# 0.1_2\n",
    "# overall : 86.14\n",
    "# sentence1 20 이하 : 86.35\n",
    "# sentence1, 2 모두 20 이하 : 86.41\n",
    "\n",
    "# sentence1 20 이상 : 85.56\n",
    "# sentence1, 2 모두 20 이상 : 88.68"
   ]
  },
  {
   "cell_type": "code",
   "execution_count": 54,
   "metadata": {
    "collapsed": true
   },
   "outputs": [],
   "source": [
    "# 0.255_2\n",
    "# overall : 86.27\n",
    "# sentence1 20 이하 : 86.61\n",
    "# sentence1, 2 모두 20 이하 : 86.61\n",
    "\n",
    "# sentence1 20 이상 : 85.34\n",
    "# sentence1, 2 모두 20 이상 : 81.13"
   ]
  },
  {
   "cell_type": "code",
   "execution_count": 55,
   "metadata": {
    "collapsed": true
   },
   "outputs": [],
   "source": [
    "# 0.5_2\n",
    "# overall : 86.09\n",
    "# sentence1 20 이하 : 86.29 \n",
    "# sentence1, 2 모두 20 이하 : 86.38\n",
    "\n",
    "# sentence1 20 이상 : 85.22\n",
    "# sentence1, 2 모두 20 이상 : 84.91"
   ]
  },
  {
   "cell_type": "code",
   "execution_count": null,
   "metadata": {
    "collapsed": true
   },
   "outputs": [],
   "source": []
  },
  {
   "cell_type": "code",
   "execution_count": null,
   "metadata": {
    "collapsed": true
   },
   "outputs": [],
   "source": [
    "c = max([np.max(x) for x in a])"
   ]
  },
  {
   "cell_type": "code",
   "execution_count": null,
   "metadata": {
    "collapsed": true
   },
   "outputs": [],
   "source": [
    "d = min([np.min(x) for x in a])"
   ]
  },
  {
   "cell_type": "code",
   "execution_count": null,
   "metadata": {
    "collapsed": true
   },
   "outputs": [],
   "source": [
    "(c-d)/2"
   ]
  },
  {
   "cell_type": "code",
   "execution_count": null,
   "metadata": {
    "collapsed": true
   },
   "outputs": [],
   "source": []
  },
  {
   "cell_type": "code",
   "execution_count": null,
   "metadata": {
    "collapsed": true
   },
   "outputs": [],
   "source": []
  },
  {
   "cell_type": "code",
   "execution_count": null,
   "metadata": {
    "collapsed": true
   },
   "outputs": [],
   "source": []
  },
  {
   "cell_type": "code",
   "execution_count": null,
   "metadata": {
    "collapsed": true
   },
   "outputs": [],
   "source": [
    "head = 0"
   ]
  },
  {
   "cell_type": "code",
   "execution_count": null,
   "metadata": {
    "collapsed": true
   },
   "outputs": [],
   "source": [
    "a = [x[0] for x in a]"
   ]
  },
  {
   "cell_type": "code",
   "execution_count": null,
   "metadata": {
    "collapsed": true
   },
   "outputs": [],
   "source": [
    "list_index = 0\n",
    "batch_index = 0\n",
    "index =8"
   ]
  },
  {
   "cell_type": "code",
   "execution_count": null,
   "metadata": {
    "collapsed": true
   },
   "outputs": [],
   "source": [
    "\" \".join([index_to_voca[x] for x in test_df.sentence1.iloc[list_index*64 + batch_index]])"
   ]
  },
  {
   "cell_type": "code",
   "execution_count": null,
   "metadata": {
    "collapsed": true,
    "scrolled": true
   },
   "outputs": [],
   "source": [
    "[index_to_voca[x] for x in test_df.sentence1.iloc[list_index*64 + batch_index]][index]"
   ]
  },
  {
   "cell_type": "code",
   "execution_count": null,
   "metadata": {
    "collapsed": true
   },
   "outputs": [],
   "source": [
    "x = list(reversed(np.argsort(a[list_index][batch_index][index])))\n",
    "b = [[index_to_voca[x] for x in test_df.sentence1.iloc[list_index*64 + batch_index]][y] for y in x]\n",
    "c = [a[list_index][batch_index][index][y] for y in x]"
   ]
  },
  {
   "cell_type": "code",
   "execution_count": null,
   "metadata": {
    "collapsed": true,
    "scrolled": true
   },
   "outputs": [],
   "source": [
    "list(zip(b, c))"
   ]
  },
  {
   "cell_type": "code",
   "execution_count": null,
   "metadata": {
    "collapsed": true
   },
   "outputs": [],
   "source": []
  },
  {
   "cell_type": "code",
   "execution_count": null,
   "metadata": {
    "collapsed": true
   },
   "outputs": [],
   "source": []
  },
  {
   "cell_type": "code",
   "execution_count": null,
   "metadata": {
    "collapsed": true
   },
   "outputs": [],
   "source": []
  },
  {
   "cell_type": "markdown",
   "metadata": {},
   "source": [
    "### Attention 확인"
   ]
  },
  {
   "cell_type": "code",
   "execution_count": null,
   "metadata": {
    "collapsed": true
   },
   "outputs": [],
   "source": [
    "def get(i, data):\n",
    "    try:\n",
    "        result = data.iloc[batch_index][i]\n",
    "    except:\n",
    "        result = 'pad'\n",
    "    return result"
   ]
  },
  {
   "cell_type": "code",
   "execution_count": null,
   "metadata": {
    "collapsed": true
   },
   "outputs": [],
   "source": [
    "feed_index = -1"
   ]
  },
  {
   "cell_type": "code",
   "execution_count": null,
   "metadata": {
    "collapsed": true
   },
   "outputs": [],
   "source": [
    "feed = test.test_feed()\n",
    "feed_index += 1"
   ]
  },
  {
   "cell_type": "code",
   "execution_count": null,
   "metadata": {
    "collapsed": true
   },
   "outputs": [],
   "source": [
    "s1_original = test_df.sentence1.iloc[64*feed_index : 64*(feed_index+1)].apply(lambda x : [index_to_voca[i] for i in x])"
   ]
  },
  {
   "cell_type": "code",
   "execution_count": null,
   "metadata": {
    "collapsed": true
   },
   "outputs": [],
   "source": [
    "s2_original = test_df.sentence2.iloc[64*feed_index : 64*(feed_index+1)].apply(lambda x : [index_to_voca[i] for i in x])"
   ]
  },
  {
   "cell_type": "code",
   "execution_count": null,
   "metadata": {
    "collapsed": true
   },
   "outputs": [],
   "source": [
    "label = test_df.gold_label.iloc[64*feed_index : 64*(feed_index+1)]"
   ]
  },
  {
   "cell_type": "code",
   "execution_count": null,
   "metadata": {
    "collapsed": true
   },
   "outputs": [],
   "source": [
    "s1_attention, s2_attention = sess.run([s1_attention_weight, s2_attention_weight], feed)"
   ]
  },
  {
   "cell_type": "code",
   "execution_count": null,
   "metadata": {
    "collapsed": true
   },
   "outputs": [],
   "source": [
    "# batch_index = 60"
   ]
  },
  {
   "cell_type": "code",
   "execution_count": null,
   "metadata": {
    "collapsed": true
   },
   "outputs": [],
   "source": [
    "# \" \".join(s1_original.iloc[batch_index])"
   ]
  },
  {
   "cell_type": "code",
   "execution_count": null,
   "metadata": {
    "collapsed": true
   },
   "outputs": [],
   "source": [
    "# word_index = 10"
   ]
  },
  {
   "cell_type": "code",
   "execution_count": null,
   "metadata": {
    "collapsed": true
   },
   "outputs": [],
   "source": [
    "# s1_original.iloc[batch_index][word_index]"
   ]
  },
  {
   "cell_type": "code",
   "execution_count": null,
   "metadata": {
    "collapsed": true,
    "scrolled": true
   },
   "outputs": [],
   "source": [
    "# list(reversed([(get(i, s1_original), s1_attention[batch_index][word_index][i]) for i in np.argsort(s1_attention[batch_index][word_index])]))[:10]"
   ]
  },
  {
   "cell_type": "code",
   "execution_count": null,
   "metadata": {
    "collapsed": true
   },
   "outputs": [],
   "source": [
    "# \" \".join(s2_original.iloc[batch_index])"
   ]
  },
  {
   "cell_type": "code",
   "execution_count": null,
   "metadata": {
    "collapsed": true
   },
   "outputs": [],
   "source": [
    "# word_index = 5"
   ]
  },
  {
   "cell_type": "code",
   "execution_count": null,
   "metadata": {
    "collapsed": true
   },
   "outputs": [],
   "source": [
    "# s2_original.iloc[batch_index][word_index]"
   ]
  },
  {
   "cell_type": "code",
   "execution_count": null,
   "metadata": {
    "collapsed": true
   },
   "outputs": [],
   "source": [
    "# list(reversed([(get(i, s2_original), s2_attention[batch_index][word_index][i]) for i in np.argsort(s2_attention[batch_index][word_index])]))[:10]"
   ]
  },
  {
   "cell_type": "code",
   "execution_count": null,
   "metadata": {
    "collapsed": true
   },
   "outputs": [],
   "source": [
    "# label.iloc[batch_index]"
   ]
  },
  {
   "cell_type": "code",
   "execution_count": null,
   "metadata": {
    "collapsed": true
   },
   "outputs": [],
   "source": []
  }
 ],
 "metadata": {
  "kernelspec": {
   "display_name": "Python [default]",
   "language": "python",
   "name": "python3"
  },
  "language_info": {
   "codemirror_mode": {
    "name": "ipython",
    "version": 3
   },
   "file_extension": ".py",
   "mimetype": "text/x-python",
   "name": "python",
   "nbconvert_exporter": "python",
   "pygments_lexer": "ipython3",
   "version": "3.5.2"
  }
 },
 "nbformat": 4,
 "nbformat_minor": 2
}

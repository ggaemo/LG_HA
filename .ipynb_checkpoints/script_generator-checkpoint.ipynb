{
 "cells": [
  {
   "cell_type": "code",
   "execution_count": 37,
   "metadata": {
    "collapsed": true
   },
   "outputs": [],
   "source": [
    "rnn_cell_list = ['gru']\n",
    "rnn_layer_list = [[64, 64]]\n",
    "output_layer_list = [[64, 64]"
   ]
  },
  {
   "cell_type": "code",
   "execution_count": null,
   "metadata": {
    "collapsed": true
   },
   "outputs": [],
   "source": []
  },
  {
   "cell_type": "code",
   "execution_count": 38,
   "metadata": {
    "collapsed": false
   },
   "outputs": [
    {
     "name": "stdout",
     "output_type": "stream",
     "text": [
      "python train.py -rnn_cell gru -rnn_layer 64 64 64 -output_layer 64 64\n",
      "python train.py -rnn_cell gru -rnn_layer 64 64 64 -output_layer 64 64 64\n",
      "python train.py -rnn_cell gru -rnn_layer 64 64 64 -output_layer 32\n",
      "python train.py -rnn_cell gru -rnn_layer 64 64 64 -output_layer 32 32\n",
      "python train.py -rnn_cell gru -rnn_layer 64 64 -output_layer 64 64\n",
      "python train.py -rnn_cell gru -rnn_layer 64 64 -output_layer 64 64 64\n",
      "python train.py -rnn_cell gru -rnn_layer 64 64 -output_layer 32\n",
      "python train.py -rnn_cell gru -rnn_layer 64 64 -output_layer 32 32\n",
      "python train.py -rnn_cell gru -rnn_layer 32 -output_layer 64 64\n",
      "python train.py -rnn_cell gru -rnn_layer 32 -output_layer 64 64 64\n",
      "python train.py -rnn_cell gru -rnn_layer 32 -output_layer 32\n",
      "python train.py -rnn_cell gru -rnn_layer 32 -output_layer 32 32\n",
      "python train.py -rnn_cell gru -rnn_layer 32 32 -output_layer 64 64\n",
      "python train.py -rnn_cell gru -rnn_layer 32 32 -output_layer 64 64 64\n",
      "python train.py -rnn_cell gru -rnn_layer 32 32 -output_layer 32\n",
      "python train.py -rnn_cell gru -rnn_layer 32 32 -output_layer 32 32\n",
      "--------------\n",
      "python train.py -rnn_cell lstm -rnn_layer 64 64 64 -output_layer 64 64\n",
      "python train.py -rnn_cell lstm -rnn_layer 64 64 64 -output_layer 64 64 64\n",
      "python train.py -rnn_cell lstm -rnn_layer 64 64 64 -output_layer 32\n",
      "python train.py -rnn_cell lstm -rnn_layer 64 64 64 -output_layer 32 32\n",
      "python train.py -rnn_cell lstm -rnn_layer 64 64 -output_layer 64 64\n",
      "python train.py -rnn_cell lstm -rnn_layer 64 64 -output_layer 64 64 64\n",
      "python train.py -rnn_cell lstm -rnn_layer 64 64 -output_layer 32\n",
      "python train.py -rnn_cell lstm -rnn_layer 64 64 -output_layer 32 32\n",
      "python train.py -rnn_cell lstm -rnn_layer 32 -output_layer 64 64\n",
      "python train.py -rnn_cell lstm -rnn_layer 32 -output_layer 64 64 64\n",
      "python train.py -rnn_cell lstm -rnn_layer 32 -output_layer 32\n",
      "python train.py -rnn_cell lstm -rnn_layer 32 -output_layer 32 32\n",
      "python train.py -rnn_cell lstm -rnn_layer 32 32 -output_layer 64 64\n",
      "python train.py -rnn_cell lstm -rnn_layer 32 32 -output_layer 64 64 64\n",
      "python train.py -rnn_cell lstm -rnn_layer 32 32 -output_layer 32\n",
      "python train.py -rnn_cell lstm -rnn_layer 32 32 -output_layer 32 32\n",
      "--------------\n",
      "python train.py -rnn_cell lnlstm -rnn_layer 64 64 64 -output_layer 64 64 -keep_prob 0.7\n",
      "python train.py -rnn_cell lnlstm -rnn_layer 64 64 64 -output_layer 64 64 -keep_prob 1.0\n",
      "python train.py -rnn_cell lnlstm -rnn_layer 64 64 64 -output_layer 64 64 64 -keep_prob 0.7\n",
      "python train.py -rnn_cell lnlstm -rnn_layer 64 64 64 -output_layer 64 64 64 -keep_prob 1.0\n",
      "python train.py -rnn_cell lnlstm -rnn_layer 64 64 64 -output_layer 32 -keep_prob 0.7\n",
      "python train.py -rnn_cell lnlstm -rnn_layer 64 64 64 -output_layer 32 -keep_prob 1.0\n",
      "python train.py -rnn_cell lnlstm -rnn_layer 64 64 64 -output_layer 32 32 -keep_prob 0.7\n",
      "python train.py -rnn_cell lnlstm -rnn_layer 64 64 64 -output_layer 32 32 -keep_prob 1.0\n",
      "python train.py -rnn_cell lnlstm -rnn_layer 64 64 -output_layer 64 64 -keep_prob 0.7\n",
      "python train.py -rnn_cell lnlstm -rnn_layer 64 64 -output_layer 64 64 -keep_prob 1.0\n",
      "python train.py -rnn_cell lnlstm -rnn_layer 64 64 -output_layer 64 64 64 -keep_prob 0.7\n",
      "python train.py -rnn_cell lnlstm -rnn_layer 64 64 -output_layer 64 64 64 -keep_prob 1.0\n",
      "python train.py -rnn_cell lnlstm -rnn_layer 64 64 -output_layer 32 -keep_prob 0.7\n",
      "python train.py -rnn_cell lnlstm -rnn_layer 64 64 -output_layer 32 -keep_prob 1.0\n",
      "python train.py -rnn_cell lnlstm -rnn_layer 64 64 -output_layer 32 32 -keep_prob 0.7\n",
      "python train.py -rnn_cell lnlstm -rnn_layer 64 64 -output_layer 32 32 -keep_prob 1.0\n",
      "--------------\n",
      "python train.py -rnn_cell lnlstm -rnn_layer 32 -output_layer 64 64 -keep_prob 0.7\n",
      "python train.py -rnn_cell lnlstm -rnn_layer 32 -output_layer 64 64 -keep_prob 1.0\n",
      "python train.py -rnn_cell lnlstm -rnn_layer 32 -output_layer 64 64 64 -keep_prob 0.7\n",
      "python train.py -rnn_cell lnlstm -rnn_layer 32 -output_layer 64 64 64 -keep_prob 1.0\n",
      "python train.py -rnn_cell lnlstm -rnn_layer 32 -output_layer 32 -keep_prob 0.7\n",
      "python train.py -rnn_cell lnlstm -rnn_layer 32 -output_layer 32 -keep_prob 1.0\n",
      "python train.py -rnn_cell lnlstm -rnn_layer 32 -output_layer 32 32 -keep_prob 0.7\n",
      "python train.py -rnn_cell lnlstm -rnn_layer 32 -output_layer 32 32 -keep_prob 1.0\n",
      "python train.py -rnn_cell lnlstm -rnn_layer 32 32 -output_layer 64 64 -keep_prob 0.7\n",
      "python train.py -rnn_cell lnlstm -rnn_layer 32 32 -output_layer 64 64 -keep_prob 1.0\n",
      "python train.py -rnn_cell lnlstm -rnn_layer 32 32 -output_layer 64 64 64 -keep_prob 0.7\n",
      "python train.py -rnn_cell lnlstm -rnn_layer 32 32 -output_layer 64 64 64 -keep_prob 1.0\n",
      "python train.py -rnn_cell lnlstm -rnn_layer 32 32 -output_layer 32 -keep_prob 0.7\n",
      "python train.py -rnn_cell lnlstm -rnn_layer 32 32 -output_layer 32 -keep_prob 1.0\n",
      "python train.py -rnn_cell lnlstm -rnn_layer 32 32 -output_layer 32 32 -keep_prob 0.7\n",
      "python train.py -rnn_cell lnlstm -rnn_layer 32 32 -output_layer 32 32 -keep_prob 1.0\n",
      "--------------\n"
     ]
    }
   ],
   "source": [
    "count = 0\n",
    "for rnn_cell in rnn_cell_list:\n",
    "    for rnn_layer in rnn_layer_list:        \n",
    "        rnn_layer = ' '.join([str(x) for x in rnn_layer])\n",
    "        for output_layer in output_layer_list:\n",
    "            output_layer = ' '.join([str(x) for x in output_layer])\n",
    "            if rnn_cell == 'lnlstm':\n",
    "                for keep_prob in keep_prob_list:                \n",
    "                    count+=1\n",
    "                    print('python train.py -rnn_cell {} -rnn_layer {} -output_layer {} -keep_prob {}'.format(rnn_cell, rnn_layer, output_layer, keep_prob))\n",
    "                    if count % 16 == 0:\n",
    "                        print('--------------')\n",
    "            else:\n",
    "                count+=1                \n",
    "                print('python train.py -rnn_cell {} -rnn_layer {} -output_layer {} -trn_site {} -test_site {}'.format(rnn_cell, rnn_layer, output_layer, trn_site, test_site))\n",
    "                if count % 16 == 0:\n",
    "                    print('--------------')"
   ]
  }
 ],
 "metadata": {
  "kernelspec": {
   "display_name": "Python [default]",
   "language": "python",
   "name": "python3"
  },
  "language_info": {
   "codemirror_mode": {
    "name": "ipython",
    "version": 3
   },
   "file_extension": ".py",
   "mimetype": "text/x-python",
   "name": "python",
   "nbconvert_exporter": "python",
   "pygments_lexer": "ipython3",
   "version": "3.5.2"
  }
 },
 "nbformat": 4,
 "nbformat_minor": 2
}

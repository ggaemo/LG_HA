{
 "cells": [
  {
   "cell_type": "code",
   "execution_count": 9,
   "metadata": {
    "collapsed": true
   },
   "outputs": [],
   "source": [
    "import numpy as np\n",
    "from datetime import timedelta\n",
    "from dateutil import parser\n",
    "import pandas as pd"
   ]
  },
  {
   "cell_type": "code",
   "execution_count": 55,
   "metadata": {
    "collapsed": true
   },
   "outputs": [],
   "source": [
    "def make_data(data_type):\n",
    "    df = pd.read_csv('data/{}/EVO_Training_Data_Original.csv'.format(data_type), index_col=False)\n",
    "\n",
    "    time = df.apply(lambda x: str(int(x['date '])) +' ' +str(int(x['H'])) + ':' +str(int(x['M'])) + ':' + str(int(x['S'])), axis=1)\n",
    "    datetime = time.apply(parser.parse)\n",
    "    df['datetime'] = datetime\n",
    "\n",
    "    row_list = list()\n",
    "    step_size = 5\n",
    "    skip_num = 0\n",
    "    for i in range(len(df) - step_size):    \n",
    "        skip_time = False\n",
    "        tmp = df['datetime'].iloc[i:i+step_size] \n",
    "        cap_nom = df['cap_nom'].iloc[i:i+step_size]\n",
    "        first = tmp.iloc[0]\n",
    "        if len(cap_nom.unique()) == 1:\n",
    "            for idx, j in tmp.iteritems():            \n",
    "                if j - first > timedelta( minutes=12):                \n",
    "                    skip_num +=1\n",
    "                    skip_time = True\n",
    "                    break\n",
    "                else:\n",
    "                    first = j\n",
    "            if not skip_time:\n",
    "                row_list.append(df.iloc[i:i+step_size])\n",
    "    print('skipped :', skip_num)\n",
    "\n",
    "    columns = ['mdot', 'Tod', 'RHod', 'mode', 'Tid', 'Vidu', 'cap_nom', 'Qsens', 'Qlat']\n",
    "    data = np.zeros((len(row_list * step_size), len(columns)))\n",
    "    for idx, value in enumerate(row_list):\n",
    "        data[idx * (step_size) :(idx + 1)* (step_size)] = value[columns].values    \n",
    "\n",
    "    data = data.reshape(-1, step_size, len(columns))\n",
    "\n",
    "    target_columns = ['Load_s', 'Load_l']\n",
    "    target = np.zeros((len(row_list) * step_size, len(target_columns)))\n",
    "    for idx, value in enumerate(row_list):\n",
    "        target[idx * (step_size) :(idx + 1)* (step_size)] = value[target_columns].values\n",
    "\n",
    "    target = target.reshape(-1, step_size, len(target_columns))\n",
    "\n",
    "    target = target[:, step_size - 1, :]\n",
    "\n",
    "    np.savez('data/{}/data'.format(data_type), X=data, y=target)"
   ]
  },
  {
   "cell_type": "code",
   "execution_count": 56,
   "metadata": {
    "collapsed": false
   },
   "outputs": [
    {
     "name": "stdout",
     "output_type": "stream",
     "text": [
      "skipped : 8597\n"
     ]
    }
   ],
   "source": [
    "make_data('Train')"
   ]
  },
  {
   "cell_type": "code",
   "execution_count": 57,
   "metadata": {
    "collapsed": false
   },
   "outputs": [
    {
     "name": "stdout",
     "output_type": "stream",
     "text": [
      "skipped : 8605\n"
     ]
    }
   ],
   "source": [
    "make_data('Test')"
   ]
  },
  {
   "cell_type": "code",
   "execution_count": null,
   "metadata": {
    "collapsed": true
   },
   "outputs": [],
   "source": []
  }
 ],
 "metadata": {
  "kernelspec": {
   "display_name": "Python [default]",
   "language": "python",
   "name": "python3"
  },
  "language_info": {
   "codemirror_mode": {
    "name": "ipython",
    "version": 3
   },
   "file_extension": ".py",
   "mimetype": "text/x-python",
   "name": "python",
   "nbconvert_exporter": "python",
   "pygments_lexer": "ipython3",
   "version": "3.5.2"
  }
 },
 "nbformat": 4,
 "nbformat_minor": 2
}

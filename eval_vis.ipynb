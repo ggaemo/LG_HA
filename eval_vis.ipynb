{
 "cells": [
  {
   "cell_type": "code",
   "execution_count": 1,
   "metadata": {
    "collapsed": true
   },
   "outputs": [],
   "source": [
    "import tensorflow as tf\n",
    "from model import Model\n",
    "import numpy as np\n",
    "import matplotlib.pyplot as plt\n",
    "%matplotlib inline"
   ]
  },
  {
   "cell_type": "code",
   "execution_count": 2,
   "metadata": {
    "collapsed": true
   },
   "outputs": [],
   "source": [
    "tf.reset_default_graph()"
   ]
  },
  {
   "cell_type": "code",
   "execution_count": 3,
   "metadata": {
    "collapsed": true
   },
   "outputs": [],
   "source": [
    "batch_size = 64\n",
    "rnn_hidden = 16\n",
    "output_hidden = 64"
   ]
  },
  {
   "cell_type": "code",
   "execution_count": 4,
   "metadata": {
    "collapsed": true
   },
   "outputs": [],
   "source": [
    "model_config = {'rnn_hidden' : rnn_hidden,\n",
    "                'output_hidden' : output_hidden,\n",
    "               }\n",
    "model_dir = ['{}-{}'.format(key, model_config[key]) for key in model_config.keys()]\n",
    "model_dir = '_'.join(model_dir)"
   ]
  },
  {
   "cell_type": "code",
   "execution_count": 5,
   "metadata": {
    "collapsed": false
   },
   "outputs": [
    {
     "data": {
      "text/plain": [
       "'rnn_hidden-16_output_hidden-64'"
      ]
     },
     "execution_count": 5,
     "metadata": {},
     "output_type": "execute_result"
    }
   ],
   "source": [
    "model_dir"
   ]
  },
  {
   "cell_type": "code",
   "execution_count": 6,
   "metadata": {
    "collapsed": true
   },
   "outputs": [],
   "source": [
    "def get_inputs(data_type):\n",
    "    data = np.load('data/data_{}.npz'.format(data_type))\n",
    "\n",
    "    X = data['X'].astype(np.float32)\n",
    "\n",
    "    y = np.expand_dims(data['y'].astype(np.float32), 1)\n",
    "    return X, y"
   ]
  },
  {
   "cell_type": "code",
   "execution_count": 7,
   "metadata": {
    "collapsed": true
   },
   "outputs": [],
   "source": [
    "test_inputs, test_targets = get_inputs('test')"
   ]
  },
  {
   "cell_type": "code",
   "execution_count": 8,
   "metadata": {
    "collapsed": true
   },
   "outputs": [],
   "source": [
    "trn_inputs, trn_targets = get_inputs('train')"
   ]
  },
  {
   "cell_type": "code",
   "execution_count": 9,
   "metadata": {
    "collapsed": true
   },
   "outputs": [],
   "source": [
    "inputs = tf.placeholder(tf.float32, [None, 5, 9])\n",
    "targets = tf.placeholder(tf.float32, [None, 1, 2])"
   ]
  },
  {
   "cell_type": "code",
   "execution_count": 10,
   "metadata": {
    "collapsed": false
   },
   "outputs": [
    {
     "ename": "TypeError",
     "evalue": "__init__() missing 2 required positional arguments: 'number_of_layers' and 'keep_prob'",
     "output_type": "error",
     "traceback": [
      "\u001b[0;31m---------------------------------------------------------------------------\u001b[0m",
      "\u001b[0;31mTypeError\u001b[0m                                 Traceback (most recent call last)",
      "\u001b[0;32m<ipython-input-10-b5c04c4c60af>\u001b[0m in \u001b[0;36m<module>\u001b[0;34m()\u001b[0m\n\u001b[1;32m      2\u001b[0m     \u001b[0;32mwith\u001b[0m \u001b[0mtf\u001b[0m\u001b[0;34m.\u001b[0m\u001b[0mname_scope\u001b[0m\u001b[0;34m(\u001b[0m\u001b[0;34m'Train'\u001b[0m\u001b[0;34m)\u001b[0m\u001b[0;34m:\u001b[0m\u001b[0;34m\u001b[0m\u001b[0m\n\u001b[1;32m      3\u001b[0m         \u001b[0mdata_inputs\u001b[0m \u001b[0;34m=\u001b[0m \u001b[0;34m{\u001b[0m\u001b[0;34m'inputs'\u001b[0m\u001b[0;34m:\u001b[0m\u001b[0minputs\u001b[0m\u001b[0;34m,\u001b[0m \u001b[0;34m'targets'\u001b[0m\u001b[0;34m:\u001b[0m \u001b[0mtargets\u001b[0m\u001b[0;34m}\u001b[0m\u001b[0;34m\u001b[0m\u001b[0m\n\u001b[0;32m----> 4\u001b[0;31m         \u001b[0mmodel\u001b[0m \u001b[0;34m=\u001b[0m \u001b[0mModel\u001b[0m\u001b[0;34m(\u001b[0m\u001b[0mdata_inputs\u001b[0m\u001b[0;34m,\u001b[0m \u001b[0mrnn_hidden\u001b[0m\u001b[0;34m=\u001b[0m\u001b[0mrnn_hidden\u001b[0m\u001b[0;34m,\u001b[0m \u001b[0moutput_hidden\u001b[0m\u001b[0;34m=\u001b[0m\u001b[0moutput_hidden\u001b[0m\u001b[0;34m,\u001b[0m \u001b[0;34m)\u001b[0m\u001b[0;34m\u001b[0m\u001b[0m\n\u001b[0m",
      "\u001b[0;31mTypeError\u001b[0m: __init__() missing 2 required positional arguments: 'number_of_layers' and 'keep_prob'"
     ]
    }
   ],
   "source": [
    "with tf.variable_scope('Model'):         \n",
    "    with tf.name_scope('Train'):\n",
    "        data_inputs = {'inputs':inputs, 'targets': targets}\n",
    "        model = Model(data_inputs, rnn_hidden=rnn_hidden, output_hidden=output_hidden, )"
   ]
  },
  {
   "cell_type": "code",
   "execution_count": 11,
   "metadata": {
    "collapsed": true
   },
   "outputs": [],
   "source": [
    "config = tf.ConfigProto()\n",
    "config.gpu_options.allow_growth=True\n",
    "sess = tf.Session(config=config)"
   ]
  },
  {
   "cell_type": "code",
   "execution_count": 12,
   "metadata": {
    "collapsed": true
   },
   "outputs": [],
   "source": [
    "saver = tf.train.Saver()"
   ]
  },
  {
   "cell_type": "code",
   "execution_count": 13,
   "metadata": {
    "collapsed": true
   },
   "outputs": [],
   "source": [
    "latest_ckpt = tf.train.latest_checkpoint('model/{}'.format(model_dir))"
   ]
  },
  {
   "cell_type": "code",
   "execution_count": 14,
   "metadata": {
    "collapsed": false
   },
   "outputs": [
    {
     "data": {
      "text/plain": [
       "'model/num_layers-2_rnn_hidden-16_output_hidden-64_dropout_keep-0.8/model.ckpt-12'"
      ]
     },
     "execution_count": 14,
     "metadata": {},
     "output_type": "execute_result"
    }
   ],
   "source": [
    "latest_ckpt"
   ]
  },
  {
   "cell_type": "code",
   "execution_count": 15,
   "metadata": {
    "collapsed": false
   },
   "outputs": [
    {
     "name": "stdout",
     "output_type": "stream",
     "text": [
      "INFO:tensorflow:Restoring parameters from model/num_layers-2_rnn_hidden-16_output_hidden-64_dropout_keep-0.8/model.ckpt-12\n"
     ]
    }
   ],
   "source": [
    "saver.restore(sess, latest_ckpt)"
   ]
  },
  {
   "cell_type": "code",
   "execution_count": 16,
   "metadata": {
    "collapsed": true
   },
   "outputs": [],
   "source": [
    "pred = sess.run(model.pred, feed_dict={inputs:test_inputs})"
   ]
  },
  {
   "cell_type": "code",
   "execution_count": 17,
   "metadata": {
    "collapsed": true
   },
   "outputs": [],
   "source": [
    "pred_trn = sess.run(model.pred, feed_dict={inputs:trn_inputs})"
   ]
  },
  {
   "cell_type": "code",
   "execution_count": 18,
   "metadata": {
    "collapsed": true
   },
   "outputs": [],
   "source": [
    "def mape_loss(pred, target, threshold):\n",
    "    mask = np.abs(target) > threshold\n",
    "    print(len(pred), sum(mask))\n",
    "    target = target[mask]\n",
    "    pred = pred[mask]\n",
    "    loss = np.mean(np.abs(pred - target) / np.abs(target))\n",
    "    return loss"
   ]
  },
  {
   "cell_type": "code",
   "execution_count": 19,
   "metadata": {
    "collapsed": false
   },
   "outputs": [
    {
     "data": {
      "text/plain": [
       "array([-3.45771885,  0.01913966,  0.12938078,  0.32214811,  4.15845203])"
      ]
     },
     "execution_count": 19,
     "metadata": {},
     "output_type": "execute_result"
    }
   ],
   "source": [
    "np.percentile(pred[:,:,0], [0, 25, 50, 75, 100])"
   ]
  },
  {
   "cell_type": "code",
   "execution_count": 20,
   "metadata": {
    "collapsed": false
   },
   "outputs": [
    {
     "data": {
      "text/plain": [
       "array([ -1.32358561e+01,  -1.42009443e+00,   4.45946679e-03,\n",
       "         9.56649065e-01,   7.30785179e+00])"
      ]
     },
     "execution_count": 20,
     "metadata": {},
     "output_type": "execute_result"
    }
   ],
   "source": [
    "np.percentile(pred_trn[:,:,0], [0, 25, 50, 75, 100])"
   ]
  },
  {
   "cell_type": "code",
   "execution_count": 21,
   "metadata": {
    "collapsed": false
   },
   "outputs": [
    {
     "data": {
      "text/plain": [
       "array([-0.0818318 ,  0.01208148,  0.04149259,  0.09493728,  1.53892338])"
      ]
     },
     "execution_count": 21,
     "metadata": {},
     "output_type": "execute_result"
    }
   ],
   "source": [
    "np.percentile(pred[:,:,1], [0, 25, 50, 75, 100])"
   ]
  },
  {
   "cell_type": "code",
   "execution_count": 22,
   "metadata": {
    "collapsed": false
   },
   "outputs": [
    {
     "data": {
      "text/plain": [
       "array([-0.21967863, -0.01040357,  0.01499968,  0.13668114,  7.16917372])"
      ]
     },
     "execution_count": 22,
     "metadata": {},
     "output_type": "execute_result"
    }
   ],
   "source": [
    "np.percentile(pred_trn[:,:,1], [0, 25, 50, 75, 100])"
   ]
  },
  {
   "cell_type": "code",
   "execution_count": 23,
   "metadata": {
    "collapsed": false
   },
   "outputs": [
    {
     "data": {
      "text/plain": [
       "[<matplotlib.lines.Line2D at 0x7fe32c0379e8>]"
      ]
     },
     "execution_count": 23,
     "metadata": {},
     "output_type": "execute_result"
    },
    {
     "data": {
      "image/png": "[encoded data removed]",
      "text/plain": [
       "<matplotlib.figure.Figure at 0x7fe32c037be0>"
      ]
     },
     "metadata": {},
     "output_type": "display_data"
    }
   ],
   "source": [
    "plt.plot(np.arange(len(pred_trn)), pred_trn[:, 0, 1])\n",
    "plt.plot(np.arange(len(pred_trn)), trn_targets[:, 0, 1])"
   ]
  },
  {
   "cell_type": "code",
   "execution_count": 24,
   "metadata": {
    "collapsed": false
   },
   "outputs": [
    {
     "data": {
      "text/plain": [
       "[<matplotlib.lines.Line2D at 0x7fe324456dd8>]"
      ]
     },
     "execution_count": 24,
     "metadata": {},
     "output_type": "execute_result"
    },
    {
     "data": {
      "image/png": "[encoded data removed]",
      "text/plain": [
       "<matplotlib.figure.Figure at 0x7fe324456630>"
      ]
     },
     "metadata": {},
     "output_type": "display_data"
    }
   ],
   "source": [
    "plt.plot(np.arange(len(pred_trn)), pred_trn[:, 0, 0])\n",
    "plt.plot(np.arange(len(pred_trn)), trn_targets[:, 0, 0])"
   ]
  },
  {
   "cell_type": "code",
   "execution_count": 25,
   "metadata": {
    "collapsed": false
   },
   "outputs": [
    {
     "data": {
      "text/plain": [
       "412"
      ]
     },
     "execution_count": 25,
     "metadata": {},
     "output_type": "execute_result"
    }
   ],
   "source": [
    "len(pred)"
   ]
  },
  {
   "cell_type": "code",
   "execution_count": 26,
   "metadata": {
    "collapsed": false
   },
   "outputs": [
    {
     "data": {
      "text/plain": [
       "412"
      ]
     },
     "execution_count": 26,
     "metadata": {},
     "output_type": "execute_result"
    }
   ],
   "source": [
    "len(test_targets)"
   ]
  },
  {
   "cell_type": "code",
   "execution_count": 27,
   "metadata": {
    "collapsed": false
   },
   "outputs": [
    {
     "data": {
      "text/plain": [
       "[<matplotlib.lines.Line2D at 0x7fe314684dd8>]"
      ]
     },
     "execution_count": 27,
     "metadata": {},
     "output_type": "execute_result"
    },
    {
     "data": {
      "image/png": "[encoded data removed]",
      "text/plain": [
       "<matplotlib.figure.Figure at 0x7fe314684d30>"
      ]
     },
     "metadata": {},
     "output_type": "display_data"
    }
   ],
   "source": [
    "plt.plot(np.arange(len(pred)), pred[:, 0, 1])\n",
    "plt.plot(np.arange(len(pred)), test_targets[:, 0, 1])"
   ]
  },
  {
   "cell_type": "code",
   "execution_count": 34,
   "metadata": {
    "collapsed": false
   },
   "outputs": [
    {
     "data": {
      "text/plain": [
       "(412, 1, 2)"
      ]
     },
     "execution_count": 34,
     "metadata": {},
     "output_type": "execute_result"
    }
   ],
   "source": [
    "test_targets.shape"
   ]
  },
  {
   "cell_type": "code",
   "execution_count": 36,
   "metadata": {
    "collapsed": true
   },
   "outputs": [
    {
     "ename": "ValueError",
     "evalue": "x and y must have same first dimension, but have shapes (412,) and (50,)",
     "output_type": "error",
     "traceback": [
      "\u001b[0;31m---------------------------------------------------------------------------\u001b[0m",
      "\u001b[0;31mValueError\u001b[0m                                Traceback (most recent call last)",
      "\u001b[0;32m<ipython-input-36-5db99ce009e4>\u001b[0m in \u001b[0;36m<module>\u001b[0;34m()\u001b[0m\n\u001b[0;32m----> 1\u001b[0;31m \u001b[0mplt\u001b[0m\u001b[0;34m.\u001b[0m\u001b[0mplot\u001b[0m\u001b[0;34m(\u001b[0m\u001b[0mnp\u001b[0m\u001b[0;34m.\u001b[0m\u001b[0marange\u001b[0m\u001b[0;34m(\u001b[0m\u001b[0mlen\u001b[0m\u001b[0;34m(\u001b[0m\u001b[0mpred\u001b[0m\u001b[0;34m)\u001b[0m\u001b[0;34m)\u001b[0m\u001b[0;34m,\u001b[0m \u001b[0mpred\u001b[0m\u001b[0;34m[\u001b[0m\u001b[0;36m150\u001b[0m\u001b[0;34m:\u001b[0m\u001b[0;36m200\u001b[0m\u001b[0;34m,\u001b[0m \u001b[0;36m0\u001b[0m\u001b[0;34m,\u001b[0m \u001b[0;36m1\u001b[0m\u001b[0;34m]\u001b[0m\u001b[0;34m)\u001b[0m\u001b[0;34m\u001b[0m\u001b[0m\n\u001b[0m\u001b[1;32m      2\u001b[0m \u001b[0mplt\u001b[0m\u001b[0;34m.\u001b[0m\u001b[0mplot\u001b[0m\u001b[0;34m(\u001b[0m\u001b[0mnp\u001b[0m\u001b[0;34m.\u001b[0m\u001b[0marange\u001b[0m\u001b[0;34m(\u001b[0m\u001b[0mlen\u001b[0m\u001b[0;34m(\u001b[0m\u001b[0mpred\u001b[0m\u001b[0;34m)\u001b[0m\u001b[0;34m)\u001b[0m\u001b[0;34m,\u001b[0m \u001b[0mtest_targets\u001b[0m\u001b[0;34m[\u001b[0m\u001b[0;36m150\u001b[0m\u001b[0;34m:\u001b[0m\u001b[0;36m200\u001b[0m\u001b[0;34m,\u001b[0m \u001b[0;36m0\u001b[0m\u001b[0;34m,\u001b[0m \u001b[0;36m1\u001b[0m\u001b[0;34m]\u001b[0m\u001b[0;34m)\u001b[0m\u001b[0;34m\u001b[0m\u001b[0m\n",
      "\u001b[0;32m/home/jinbae/anaconda3/lib/python3.6/site-packages/matplotlib/pyplot.py\u001b[0m in \u001b[0;36mplot\u001b[0;34m(*args, **kwargs)\u001b[0m\n\u001b[1;32m   3315\u001b[0m                       mplDeprecation)\n\u001b[1;32m   3316\u001b[0m     \u001b[0;32mtry\u001b[0m\u001b[0;34m:\u001b[0m\u001b[0;34m\u001b[0m\u001b[0m\n\u001b[0;32m-> 3317\u001b[0;31m         \u001b[0mret\u001b[0m \u001b[0;34m=\u001b[0m \u001b[0max\u001b[0m\u001b[0;34m.\u001b[0m\u001b[0mplot\u001b[0m\u001b[0;34m(\u001b[0m\u001b[0;34m*\u001b[0m\u001b[0margs\u001b[0m\u001b[0;34m,\u001b[0m \u001b[0;34m**\u001b[0m\u001b[0mkwargs\u001b[0m\u001b[0;34m)\u001b[0m\u001b[0;34m\u001b[0m\u001b[0m\n\u001b[0m\u001b[1;32m   3318\u001b[0m     \u001b[0;32mfinally\u001b[0m\u001b[0;34m:\u001b[0m\u001b[0;34m\u001b[0m\u001b[0m\n\u001b[1;32m   3319\u001b[0m         \u001b[0max\u001b[0m\u001b[0;34m.\u001b[0m\u001b[0m_hold\u001b[0m \u001b[0;34m=\u001b[0m \u001b[0mwashold\u001b[0m\u001b[0;34m\u001b[0m\u001b[0m\n",
      "\u001b[0;32m/home/jinbae/anaconda3/lib/python3.6/site-packages/matplotlib/__init__.py\u001b[0m in \u001b[0;36minner\u001b[0;34m(ax, *args, **kwargs)\u001b[0m\n\u001b[1;32m   1896\u001b[0m                     warnings.warn(msg % (label_namer, func.__name__),\n\u001b[1;32m   1897\u001b[0m                                   RuntimeWarning, stacklevel=2)\n\u001b[0;32m-> 1898\u001b[0;31m             \u001b[0;32mreturn\u001b[0m \u001b[0mfunc\u001b[0m\u001b[0;34m(\u001b[0m\u001b[0max\u001b[0m\u001b[0;34m,\u001b[0m \u001b[0;34m*\u001b[0m\u001b[0margs\u001b[0m\u001b[0;34m,\u001b[0m \u001b[0;34m**\u001b[0m\u001b[0mkwargs\u001b[0m\u001b[0;34m)\u001b[0m\u001b[0;34m\u001b[0m\u001b[0m\n\u001b[0m\u001b[1;32m   1899\u001b[0m         \u001b[0mpre_doc\u001b[0m \u001b[0;34m=\u001b[0m \u001b[0minner\u001b[0m\u001b[0;34m.\u001b[0m\u001b[0m__doc__\u001b[0m\u001b[0;34m\u001b[0m\u001b[0m\n\u001b[1;32m   1900\u001b[0m         \u001b[0;32mif\u001b[0m \u001b[0mpre_doc\u001b[0m \u001b[0;32mis\u001b[0m \u001b[0;32mNone\u001b[0m\u001b[0;34m:\u001b[0m\u001b[0;34m\u001b[0m\u001b[0m\n",
      "\u001b[0;32m/home/jinbae/anaconda3/lib/python3.6/site-packages/matplotlib/axes/_axes.py\u001b[0m in \u001b[0;36mplot\u001b[0;34m(self, *args, **kwargs)\u001b[0m\n\u001b[1;32m   1404\u001b[0m         \u001b[0mkwargs\u001b[0m \u001b[0;34m=\u001b[0m \u001b[0mcbook\u001b[0m\u001b[0;34m.\u001b[0m\u001b[0mnormalize_kwargs\u001b[0m\u001b[0;34m(\u001b[0m\u001b[0mkwargs\u001b[0m\u001b[0;34m,\u001b[0m \u001b[0m_alias_map\u001b[0m\u001b[0;34m)\u001b[0m\u001b[0;34m\u001b[0m\u001b[0m\n\u001b[1;32m   1405\u001b[0m \u001b[0;34m\u001b[0m\u001b[0m\n\u001b[0;32m-> 1406\u001b[0;31m         \u001b[0;32mfor\u001b[0m \u001b[0mline\u001b[0m \u001b[0;32min\u001b[0m \u001b[0mself\u001b[0m\u001b[0;34m.\u001b[0m\u001b[0m_get_lines\u001b[0m\u001b[0;34m(\u001b[0m\u001b[0;34m*\u001b[0m\u001b[0margs\u001b[0m\u001b[0;34m,\u001b[0m \u001b[0;34m**\u001b[0m\u001b[0mkwargs\u001b[0m\u001b[0;34m)\u001b[0m\u001b[0;34m:\u001b[0m\u001b[0;34m\u001b[0m\u001b[0m\n\u001b[0m\u001b[1;32m   1407\u001b[0m             \u001b[0mself\u001b[0m\u001b[0;34m.\u001b[0m\u001b[0madd_line\u001b[0m\u001b[0;34m(\u001b[0m\u001b[0mline\u001b[0m\u001b[0;34m)\u001b[0m\u001b[0;34m\u001b[0m\u001b[0m\n\u001b[1;32m   1408\u001b[0m             \u001b[0mlines\u001b[0m\u001b[0;34m.\u001b[0m\u001b[0mappend\u001b[0m\u001b[0;34m(\u001b[0m\u001b[0mline\u001b[0m\u001b[0;34m)\u001b[0m\u001b[0;34m\u001b[0m\u001b[0m\n",
      "\u001b[0;32m/home/jinbae/anaconda3/lib/python3.6/site-packages/matplotlib/axes/_base.py\u001b[0m in \u001b[0;36m_grab_next_args\u001b[0;34m(self, *args, **kwargs)\u001b[0m\n\u001b[1;32m    405\u001b[0m                 \u001b[0;32mreturn\u001b[0m\u001b[0;34m\u001b[0m\u001b[0m\n\u001b[1;32m    406\u001b[0m             \u001b[0;32mif\u001b[0m \u001b[0mlen\u001b[0m\u001b[0;34m(\u001b[0m\u001b[0mremaining\u001b[0m\u001b[0;34m)\u001b[0m \u001b[0;34m<=\u001b[0m \u001b[0;36m3\u001b[0m\u001b[0;34m:\u001b[0m\u001b[0;34m\u001b[0m\u001b[0m\n\u001b[0;32m--> 407\u001b[0;31m                 \u001b[0;32mfor\u001b[0m \u001b[0mseg\u001b[0m \u001b[0;32min\u001b[0m \u001b[0mself\u001b[0m\u001b[0;34m.\u001b[0m\u001b[0m_plot_args\u001b[0m\u001b[0;34m(\u001b[0m\u001b[0mremaining\u001b[0m\u001b[0;34m,\u001b[0m \u001b[0mkwargs\u001b[0m\u001b[0;34m)\u001b[0m\u001b[0;34m:\u001b[0m\u001b[0;34m\u001b[0m\u001b[0m\n\u001b[0m\u001b[1;32m    408\u001b[0m                     \u001b[0;32myield\u001b[0m \u001b[0mseg\u001b[0m\u001b[0;34m\u001b[0m\u001b[0m\n\u001b[1;32m    409\u001b[0m                 \u001b[0;32mreturn\u001b[0m\u001b[0;34m\u001b[0m\u001b[0m\n",
      "\u001b[0;32m/home/jinbae/anaconda3/lib/python3.6/site-packages/matplotlib/axes/_base.py\u001b[0m in \u001b[0;36m_plot_args\u001b[0;34m(self, tup, kwargs)\u001b[0m\n\u001b[1;32m    383\u001b[0m             \u001b[0mx\u001b[0m\u001b[0;34m,\u001b[0m \u001b[0my\u001b[0m \u001b[0;34m=\u001b[0m \u001b[0mindex_of\u001b[0m\u001b[0;34m(\u001b[0m\u001b[0mtup\u001b[0m\u001b[0;34m[\u001b[0m\u001b[0;34m-\u001b[0m\u001b[0;36m1\u001b[0m\u001b[0;34m]\u001b[0m\u001b[0;34m)\u001b[0m\u001b[0;34m\u001b[0m\u001b[0m\n\u001b[1;32m    384\u001b[0m \u001b[0;34m\u001b[0m\u001b[0m\n\u001b[0;32m--> 385\u001b[0;31m         \u001b[0mx\u001b[0m\u001b[0;34m,\u001b[0m \u001b[0my\u001b[0m \u001b[0;34m=\u001b[0m \u001b[0mself\u001b[0m\u001b[0;34m.\u001b[0m\u001b[0m_xy_from_xy\u001b[0m\u001b[0;34m(\u001b[0m\u001b[0mx\u001b[0m\u001b[0;34m,\u001b[0m \u001b[0my\u001b[0m\u001b[0;34m)\u001b[0m\u001b[0;34m\u001b[0m\u001b[0m\n\u001b[0m\u001b[1;32m    386\u001b[0m \u001b[0;34m\u001b[0m\u001b[0m\n\u001b[1;32m    387\u001b[0m         \u001b[0;32mif\u001b[0m \u001b[0mself\u001b[0m\u001b[0;34m.\u001b[0m\u001b[0mcommand\u001b[0m \u001b[0;34m==\u001b[0m \u001b[0;34m'plot'\u001b[0m\u001b[0;34m:\u001b[0m\u001b[0;34m\u001b[0m\u001b[0m\n",
      "\u001b[0;32m/home/jinbae/anaconda3/lib/python3.6/site-packages/matplotlib/axes/_base.py\u001b[0m in \u001b[0;36m_xy_from_xy\u001b[0;34m(self, x, y)\u001b[0m\n\u001b[1;32m    242\u001b[0m         \u001b[0;32mif\u001b[0m \u001b[0mx\u001b[0m\u001b[0;34m.\u001b[0m\u001b[0mshape\u001b[0m\u001b[0;34m[\u001b[0m\u001b[0;36m0\u001b[0m\u001b[0;34m]\u001b[0m \u001b[0;34m!=\u001b[0m \u001b[0my\u001b[0m\u001b[0;34m.\u001b[0m\u001b[0mshape\u001b[0m\u001b[0;34m[\u001b[0m\u001b[0;36m0\u001b[0m\u001b[0;34m]\u001b[0m\u001b[0;34m:\u001b[0m\u001b[0;34m\u001b[0m\u001b[0m\n\u001b[1;32m    243\u001b[0m             raise ValueError(\"x and y must have same first dimension, but \"\n\u001b[0;32m--> 244\u001b[0;31m                              \"have shapes {} and {}\".format(x.shape, y.shape))\n\u001b[0m\u001b[1;32m    245\u001b[0m         \u001b[0;32mif\u001b[0m \u001b[0mx\u001b[0m\u001b[0;34m.\u001b[0m\u001b[0mndim\u001b[0m \u001b[0;34m>\u001b[0m \u001b[0;36m2\u001b[0m \u001b[0;32mor\u001b[0m \u001b[0my\u001b[0m\u001b[0;34m.\u001b[0m\u001b[0mndim\u001b[0m \u001b[0;34m>\u001b[0m \u001b[0;36m2\u001b[0m\u001b[0;34m:\u001b[0m\u001b[0;34m\u001b[0m\u001b[0m\n\u001b[1;32m    246\u001b[0m             raise ValueError(\"x and y can be no greater than 2-D, but have \"\n",
      "\u001b[0;31mValueError\u001b[0m: x and y must have same first dimension, but have shapes (412,) and (50,)"
     ]
    },
    {
     "data": {
      "image/png": "[encoded data removed]",
      "text/plain": [
       "<matplotlib.figure.Figure at 0x7fe2b74a7780>"
      ]
     },
     "metadata": {},
     "output_type": "display_data"
    }
   ],
   "source": [
    "plt.plot(np.arange(len(pred)), pred[:, 0, 1])\n",
    "plt.plot(np.arange(len(pred)), test_targets[:, 0, 1])"
   ]
  },
  {
   "cell_type": "code",
   "execution_count": 28,
   "metadata": {
    "collapsed": false
   },
   "outputs": [
    {
     "data": {
      "text/plain": [
       "[<matplotlib.lines.Line2D at 0x7fe31c688860>]"
      ]
     },
     "execution_count": 28,
     "metadata": {},
     "output_type": "execute_result"
    },
    {
     "data": {
      "image/png": "[encoded data removed]",
      "text/plain": [
       "<matplotlib.figure.Figure at 0x7fe31c6882b0>"
      ]
     },
     "metadata": {},
     "output_type": "display_data"
    }
   ],
   "source": [
    "plt.plot(np.arange(len(pred[:100])), pred[120:220, 0, 1])\n",
    "plt.plot(np.arange(len(pred[:100])), test_targets[120:220, 0, 1])"
   ]
  },
  {
   "cell_type": "code",
   "execution_count": 29,
   "metadata": {
    "collapsed": false
   },
   "outputs": [
    {
     "data": {
      "text/plain": [
       "[<matplotlib.lines.Line2D at 0x7fe2b75a58d0>]"
      ]
     },
     "execution_count": 29,
     "metadata": {},
     "output_type": "execute_result"
    },
    {
     "data": {
      "image/png": "[encoded data removed]",
      "text/plain": [
       "<matplotlib.figure.Figure at 0x7fe2b75a5940>"
      ]
     },
     "metadata": {},
     "output_type": "display_data"
    }
   ],
   "source": [
    "plt.plot(np.arange(len(pred[:30])), pred[120:150, 0, 0])\n",
    "plt.plot(np.arange(len(pred[:30])), test_targets[120:150, 0, 0])"
   ]
  },
  {
   "cell_type": "code",
   "execution_count": 30,
   "metadata": {
    "collapsed": false
   },
   "outputs": [
    {
     "name": "stdout",
     "output_type": "stream",
     "text": [
      "412 [48]\n"
     ]
    },
    {
     "data": {
      "text/plain": [
       "0.39534464"
      ]
     },
     "execution_count": 30,
     "metadata": {},
     "output_type": "execute_result"
    }
   ],
   "source": [
    "mape_loss(pred[:,:,1], test_targets[:,:,1], 0.5)"
   ]
  },
  {
   "cell_type": "code",
   "execution_count": 31,
   "metadata": {
    "collapsed": false
   },
   "outputs": [
    {
     "name": "stdout",
     "output_type": "stream",
     "text": [
      "412 [143]\n"
     ]
    },
    {
     "data": {
      "text/plain": [
       "0.18412966"
      ]
     },
     "execution_count": 31,
     "metadata": {},
     "output_type": "execute_result"
    }
   ],
   "source": [
    "mape_loss(pred[:,:,0], test_targets[:,:,0], 0.5)"
   ]
  },
  {
   "cell_type": "code",
   "execution_count": null,
   "metadata": {
    "collapsed": true
   },
   "outputs": [],
   "source": []
  },
  {
   "cell_type": "code",
   "execution_count": null,
   "metadata": {
    "collapsed": true
   },
   "outputs": [],
   "source": [
    "tf.contrib.rnn.GRUCell()"
   ]
  },
  {
   "cell_type": "code",
   "execution_count": null,
   "metadata": {
    "collapsed": true
   },
   "outputs": [],
   "source": [
    "tf.contrib.layers.fully_connected()"
   ]
  },
  {
   "cell_type": "code",
   "execution_count": 18,
   "metadata": {
    "collapsed": true
   },
   "outputs": [],
   "source": [
    "layer_size = [1, 2, 3]\n",
    "rnn_hidden = [64, 512]\n",
    "batch_size = [32]\n",
    "layer_output = [1, 2]\n",
    "output_hidden = [64, 512]\n",
    "dropout_keep = [0.7, 1.0]\n",
    "cell = ['GRU', 'LSTM', 'LNLSTM']\n",
    "directional = ['bidirectional']"
   ]
  },
  {
   "cell_type": "code",
   "execution_count": 20,
   "metadata": {
    "collapsed": true
   },
   "outputs": [],
   "source": [
    "import tensorflow as tf"
   ]
  },
  {
   "cell_type": "code",
   "execution_count": 19,
   "metadata": {
    "collapsed": false
   },
   "outputs": [
    {
     "name": "stdout",
     "output_type": "stream",
     "text": [
      "l-1_r-64_b-32_lo-1_o-64_d-0.7_c-GRU_dir-bidirectional\n",
      "l-1_r-64_b-32_lo-1_o-64_d-0.7_c-LSTM_dir-bidirectional\n",
      "l-1_r-64_b-32_lo-1_o-64_d-0.7_c-LNLSTM_dir-bidirectional\n",
      "l-1_r-64_b-32_lo-1_o-64_d-1.0_c-GRU_dir-bidirectional\n",
      "l-1_r-64_b-32_lo-1_o-64_d-1.0_c-LSTM_dir-bidirectional\n",
      "l-1_r-64_b-32_lo-1_o-64_d-1.0_c-LNLSTM_dir-bidirectional\n",
      "l-1_r-64_b-32_lo-1_o-512_d-0.7_c-GRU_dir-bidirectional\n",
      "l-1_r-64_b-32_lo-1_o-512_d-0.7_c-LSTM_dir-bidirectional\n",
      "l-1_r-64_b-32_lo-1_o-512_d-0.7_c-LNLSTM_dir-bidirectional\n",
      "l-1_r-64_b-32_lo-1_o-512_d-1.0_c-GRU_dir-bidirectional\n",
      "l-1_r-64_b-32_lo-1_o-512_d-1.0_c-LSTM_dir-bidirectional\n",
      "l-1_r-64_b-32_lo-1_o-512_d-1.0_c-LNLSTM_dir-bidirectional\n",
      "l-1_r-64_b-32_lo-2_o-64_d-0.7_c-GRU_dir-bidirectional\n",
      "l-1_r-64_b-32_lo-2_o-64_d-0.7_c-LSTM_dir-bidirectional\n",
      "l-1_r-64_b-32_lo-2_o-64_d-0.7_c-LNLSTM_dir-bidirectional\n",
      "l-1_r-64_b-32_lo-2_o-64_d-1.0_c-GRU_dir-bidirectional\n",
      "l-1_r-64_b-32_lo-2_o-64_d-1.0_c-LSTM_dir-bidirectional\n",
      "l-1_r-64_b-32_lo-2_o-64_d-1.0_c-LNLSTM_dir-bidirectional\n",
      "l-1_r-64_b-32_lo-2_o-512_d-0.7_c-GRU_dir-bidirectional\n",
      "l-1_r-64_b-32_lo-2_o-512_d-0.7_c-LSTM_dir-bidirectional\n",
      "l-1_r-64_b-32_lo-2_o-512_d-0.7_c-LNLSTM_dir-bidirectional\n",
      "l-1_r-64_b-32_lo-2_o-512_d-1.0_c-GRU_dir-bidirectional\n",
      "l-1_r-64_b-32_lo-2_o-512_d-1.0_c-LSTM_dir-bidirectional\n",
      "l-1_r-64_b-32_lo-2_o-512_d-1.0_c-LNLSTM_dir-bidirectional\n",
      "l-1_r-512_b-32_lo-1_o-64_d-0.7_c-GRU_dir-bidirectional\n",
      "l-1_r-512_b-32_lo-1_o-64_d-0.7_c-LSTM_dir-bidirectional\n",
      "l-1_r-512_b-32_lo-1_o-64_d-0.7_c-LNLSTM_dir-bidirectional\n",
      "l-1_r-512_b-32_lo-1_o-64_d-1.0_c-GRU_dir-bidirectional\n",
      "l-1_r-512_b-32_lo-1_o-64_d-1.0_c-LSTM_dir-bidirectional\n",
      "l-1_r-512_b-32_lo-1_o-64_d-1.0_c-LNLSTM_dir-bidirectional\n",
      "l-1_r-512_b-32_lo-1_o-512_d-0.7_c-GRU_dir-bidirectional\n",
      "l-1_r-512_b-32_lo-1_o-512_d-0.7_c-LSTM_dir-bidirectional\n",
      "l-1_r-512_b-32_lo-1_o-512_d-0.7_c-LNLSTM_dir-bidirectional\n",
      "l-1_r-512_b-32_lo-1_o-512_d-1.0_c-GRU_dir-bidirectional\n",
      "l-1_r-512_b-32_lo-1_o-512_d-1.0_c-LSTM_dir-bidirectional\n",
      "l-1_r-512_b-32_lo-1_o-512_d-1.0_c-LNLSTM_dir-bidirectional\n",
      "l-1_r-512_b-32_lo-2_o-64_d-0.7_c-GRU_dir-bidirectional\n",
      "l-1_r-512_b-32_lo-2_o-64_d-0.7_c-LSTM_dir-bidirectional\n",
      "l-1_r-512_b-32_lo-2_o-64_d-0.7_c-LNLSTM_dir-bidirectional\n",
      "l-1_r-512_b-32_lo-2_o-64_d-1.0_c-GRU_dir-bidirectional\n",
      "l-1_r-512_b-32_lo-2_o-64_d-1.0_c-LSTM_dir-bidirectional\n",
      "l-1_r-512_b-32_lo-2_o-64_d-1.0_c-LNLSTM_dir-bidirectional\n",
      "l-1_r-512_b-32_lo-2_o-512_d-0.7_c-GRU_dir-bidirectional\n",
      "l-1_r-512_b-32_lo-2_o-512_d-0.7_c-LSTM_dir-bidirectional\n",
      "l-1_r-512_b-32_lo-2_o-512_d-0.7_c-LNLSTM_dir-bidirectional\n",
      "l-1_r-512_b-32_lo-2_o-512_d-1.0_c-GRU_dir-bidirectional\n",
      "l-1_r-512_b-32_lo-2_o-512_d-1.0_c-LSTM_dir-bidirectional\n",
      "l-1_r-512_b-32_lo-2_o-512_d-1.0_c-LNLSTM_dir-bidirectional\n",
      "l-2_r-64_b-32_lo-1_o-64_d-0.7_c-GRU_dir-bidirectional\n",
      "l-2_r-64_b-32_lo-1_o-64_d-0.7_c-LSTM_dir-bidirectional\n",
      "l-2_r-64_b-32_lo-1_o-64_d-0.7_c-LNLSTM_dir-bidirectional\n",
      "l-2_r-64_b-32_lo-1_o-64_d-1.0_c-GRU_dir-bidirectional\n",
      "l-2_r-64_b-32_lo-1_o-64_d-1.0_c-LSTM_dir-bidirectional\n",
      "l-2_r-64_b-32_lo-1_o-64_d-1.0_c-LNLSTM_dir-bidirectional\n",
      "l-2_r-64_b-32_lo-1_o-512_d-0.7_c-GRU_dir-bidirectional\n",
      "l-2_r-64_b-32_lo-1_o-512_d-0.7_c-LSTM_dir-bidirectional\n",
      "l-2_r-64_b-32_lo-1_o-512_d-0.7_c-LNLSTM_dir-bidirectional\n",
      "l-2_r-64_b-32_lo-1_o-512_d-1.0_c-GRU_dir-bidirectional\n",
      "l-2_r-64_b-32_lo-1_o-512_d-1.0_c-LSTM_dir-bidirectional\n",
      "l-2_r-64_b-32_lo-1_o-512_d-1.0_c-LNLSTM_dir-bidirectional\n",
      "l-2_r-64_b-32_lo-2_o-64_d-0.7_c-GRU_dir-bidirectional\n",
      "l-2_r-64_b-32_lo-2_o-64_d-0.7_c-LSTM_dir-bidirectional\n",
      "l-2_r-64_b-32_lo-2_o-64_d-0.7_c-LNLSTM_dir-bidirectional\n",
      "l-2_r-64_b-32_lo-2_o-64_d-1.0_c-GRU_dir-bidirectional\n",
      "l-2_r-64_b-32_lo-2_o-64_d-1.0_c-LSTM_dir-bidirectional\n",
      "l-2_r-64_b-32_lo-2_o-64_d-1.0_c-LNLSTM_dir-bidirectional\n",
      "l-2_r-64_b-32_lo-2_o-512_d-0.7_c-GRU_dir-bidirectional\n",
      "l-2_r-64_b-32_lo-2_o-512_d-0.7_c-LSTM_dir-bidirectional\n",
      "l-2_r-64_b-32_lo-2_o-512_d-0.7_c-LNLSTM_dir-bidirectional\n",
      "l-2_r-64_b-32_lo-2_o-512_d-1.0_c-GRU_dir-bidirectional\n",
      "l-2_r-64_b-32_lo-2_o-512_d-1.0_c-LSTM_dir-bidirectional\n",
      "l-2_r-64_b-32_lo-2_o-512_d-1.0_c-LNLSTM_dir-bidirectional\n",
      "l-2_r-512_b-32_lo-1_o-64_d-0.7_c-GRU_dir-bidirectional\n",
      "l-2_r-512_b-32_lo-1_o-64_d-0.7_c-LSTM_dir-bidirectional\n",
      "l-2_r-512_b-32_lo-1_o-64_d-0.7_c-LNLSTM_dir-bidirectional\n",
      "l-2_r-512_b-32_lo-1_o-64_d-1.0_c-GRU_dir-bidirectional\n",
      "l-2_r-512_b-32_lo-1_o-64_d-1.0_c-LSTM_dir-bidirectional\n",
      "l-2_r-512_b-32_lo-1_o-64_d-1.0_c-LNLSTM_dir-bidirectional\n",
      "l-2_r-512_b-32_lo-1_o-512_d-0.7_c-GRU_dir-bidirectional\n",
      "l-2_r-512_b-32_lo-1_o-512_d-0.7_c-LSTM_dir-bidirectional\n",
      "l-2_r-512_b-32_lo-1_o-512_d-0.7_c-LNLSTM_dir-bidirectional\n",
      "l-2_r-512_b-32_lo-1_o-512_d-1.0_c-GRU_dir-bidirectional\n",
      "l-2_r-512_b-32_lo-1_o-512_d-1.0_c-LSTM_dir-bidirectional\n",
      "l-2_r-512_b-32_lo-1_o-512_d-1.0_c-LNLSTM_dir-bidirectional\n",
      "l-2_r-512_b-32_lo-2_o-64_d-0.7_c-GRU_dir-bidirectional\n",
      "l-2_r-512_b-32_lo-2_o-64_d-0.7_c-LSTM_dir-bidirectional\n",
      "l-2_r-512_b-32_lo-2_o-64_d-0.7_c-LNLSTM_dir-bidirectional\n",
      "l-2_r-512_b-32_lo-2_o-64_d-1.0_c-GRU_dir-bidirectional\n",
      "l-2_r-512_b-32_lo-2_o-64_d-1.0_c-LSTM_dir-bidirectional\n",
      "l-2_r-512_b-32_lo-2_o-64_d-1.0_c-LNLSTM_dir-bidirectional\n",
      "l-2_r-512_b-32_lo-2_o-512_d-0.7_c-GRU_dir-bidirectional\n",
      "l-2_r-512_b-32_lo-2_o-512_d-0.7_c-LSTM_dir-bidirectional\n",
      "l-2_r-512_b-32_lo-2_o-512_d-0.7_c-LNLSTM_dir-bidirectional\n",
      "l-2_r-512_b-32_lo-2_o-512_d-1.0_c-GRU_dir-bidirectional\n",
      "l-2_r-512_b-32_lo-2_o-512_d-1.0_c-LSTM_dir-bidirectional\n",
      "l-2_r-512_b-32_lo-2_o-512_d-1.0_c-LNLSTM_dir-bidirectional\n",
      "l-3_r-64_b-32_lo-1_o-64_d-0.7_c-GRU_dir-bidirectional\n",
      "l-3_r-64_b-32_lo-1_o-64_d-0.7_c-LSTM_dir-bidirectional\n",
      "l-3_r-64_b-32_lo-1_o-64_d-0.7_c-LNLSTM_dir-bidirectional\n",
      "l-3_r-64_b-32_lo-1_o-64_d-1.0_c-GRU_dir-bidirectional\n",
      "l-3_r-64_b-32_lo-1_o-64_d-1.0_c-LSTM_dir-bidirectional\n",
      "l-3_r-64_b-32_lo-1_o-64_d-1.0_c-LNLSTM_dir-bidirectional\n",
      "l-3_r-64_b-32_lo-1_o-512_d-0.7_c-GRU_dir-bidirectional\n",
      "l-3_r-64_b-32_lo-1_o-512_d-0.7_c-LSTM_dir-bidirectional\n",
      "l-3_r-64_b-32_lo-1_o-512_d-0.7_c-LNLSTM_dir-bidirectional\n",
      "l-3_r-64_b-32_lo-1_o-512_d-1.0_c-GRU_dir-bidirectional\n",
      "l-3_r-64_b-32_lo-1_o-512_d-1.0_c-LSTM_dir-bidirectional\n",
      "l-3_r-64_b-32_lo-1_o-512_d-1.0_c-LNLSTM_dir-bidirectional\n",
      "l-3_r-64_b-32_lo-2_o-64_d-0.7_c-GRU_dir-bidirectional\n",
      "l-3_r-64_b-32_lo-2_o-64_d-0.7_c-LSTM_dir-bidirectional\n",
      "l-3_r-64_b-32_lo-2_o-64_d-0.7_c-LNLSTM_dir-bidirectional\n",
      "l-3_r-64_b-32_lo-2_o-64_d-1.0_c-GRU_dir-bidirectional\n",
      "l-3_r-64_b-32_lo-2_o-64_d-1.0_c-LSTM_dir-bidirectional\n",
      "l-3_r-64_b-32_lo-2_o-64_d-1.0_c-LNLSTM_dir-bidirectional\n",
      "l-3_r-64_b-32_lo-2_o-512_d-0.7_c-GRU_dir-bidirectional\n",
      "l-3_r-64_b-32_lo-2_o-512_d-0.7_c-LSTM_dir-bidirectional\n",
      "l-3_r-64_b-32_lo-2_o-512_d-0.7_c-LNLSTM_dir-bidirectional\n",
      "l-3_r-64_b-32_lo-2_o-512_d-1.0_c-GRU_dir-bidirectional\n",
      "l-3_r-64_b-32_lo-2_o-512_d-1.0_c-LSTM_dir-bidirectional\n",
      "l-3_r-64_b-32_lo-2_o-512_d-1.0_c-LNLSTM_dir-bidirectional\n",
      "l-3_r-512_b-32_lo-1_o-64_d-0.7_c-GRU_dir-bidirectional\n",
      "l-3_r-512_b-32_lo-1_o-64_d-0.7_c-LSTM_dir-bidirectional\n",
      "l-3_r-512_b-32_lo-1_o-64_d-0.7_c-LNLSTM_dir-bidirectional\n",
      "l-3_r-512_b-32_lo-1_o-64_d-1.0_c-GRU_dir-bidirectional\n",
      "l-3_r-512_b-32_lo-1_o-64_d-1.0_c-LSTM_dir-bidirectional\n",
      "l-3_r-512_b-32_lo-1_o-64_d-1.0_c-LNLSTM_dir-bidirectional\n",
      "l-3_r-512_b-32_lo-1_o-512_d-0.7_c-GRU_dir-bidirectional\n",
      "l-3_r-512_b-32_lo-1_o-512_d-0.7_c-LSTM_dir-bidirectional\n",
      "l-3_r-512_b-32_lo-1_o-512_d-0.7_c-LNLSTM_dir-bidirectional\n",
      "l-3_r-512_b-32_lo-1_o-512_d-1.0_c-GRU_dir-bidirectional\n",
      "l-3_r-512_b-32_lo-1_o-512_d-1.0_c-LSTM_dir-bidirectional\n",
      "l-3_r-512_b-32_lo-1_o-512_d-1.0_c-LNLSTM_dir-bidirectional\n",
      "l-3_r-512_b-32_lo-2_o-64_d-0.7_c-GRU_dir-bidirectional\n",
      "l-3_r-512_b-32_lo-2_o-64_d-0.7_c-LSTM_dir-bidirectional\n",
      "l-3_r-512_b-32_lo-2_o-64_d-0.7_c-LNLSTM_dir-bidirectional\n",
      "l-3_r-512_b-32_lo-2_o-64_d-1.0_c-GRU_dir-bidirectional\n",
      "l-3_r-512_b-32_lo-2_o-64_d-1.0_c-LSTM_dir-bidirectional\n",
      "l-3_r-512_b-32_lo-2_o-64_d-1.0_c-LNLSTM_dir-bidirectional\n",
      "l-3_r-512_b-32_lo-2_o-512_d-0.7_c-GRU_dir-bidirectional\n",
      "l-3_r-512_b-32_lo-2_o-512_d-0.7_c-LSTM_dir-bidirectional\n",
      "l-3_r-512_b-32_lo-2_o-512_d-0.7_c-LNLSTM_dir-bidirectional\n",
      "l-3_r-512_b-32_lo-2_o-512_d-1.0_c-GRU_dir-bidirectional\n",
      "l-3_r-512_b-32_lo-2_o-512_d-1.0_c-LSTM_dir-bidirectional\n",
      "l-3_r-512_b-32_lo-2_o-512_d-1.0_c-LNLSTM_dir-bidirectional\n"
     ]
    }
   ],
   "source": [
    "for a in layer_size:\n",
    "    for b in rnn_hidden:\n",
    "        for c in batch_size:\n",
    "            for d in layer_output:\n",
    "                for e in output_hidden:\n",
    "                    for f in dropout_keep:\n",
    "                        for g in cell:\n",
    "                            for h in directional:\n",
    "                                print('l-{}_r-{}_b-{}_lo-{}_o-{}_d-{}_c-{}_dir-{}'.format(a, b, c, d, e, f, g, h))"
   ]
  },
  {
   "cell_type": "code",
   "execution_count": null,
   "metadata": {
    "collapsed": true
   },
   "outputs": [],
   "source": []
  }
 ],
 "metadata": {
  "kernelspec": {
   "display_name": "Python [conda env:tensorflow]",
   "language": "python",
   "name": "conda-env-tensorflow-py"
  },
  "language_info": {
   "codemirror_mode": {
    "name": "ipython",
    "version": 3
   },
   "file_extension": ".py",
   "mimetype": "text/x-python",
   "name": "python",
   "nbconvert_exporter": "python",
   "pygments_lexer": "ipython3",
   "version": "3.5.2"
  }
 },
 "nbformat": 4,
 "nbformat_minor": 2
}
